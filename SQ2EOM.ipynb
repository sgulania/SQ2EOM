{
 "cells": [
  {
   "cell_type": "markdown",
   "metadata": {},
   "source": [
    "## From Second Quantization to Equation-of-Motion Coupled-Cluster using sympy\n",
    "\n",
    "### Table of contents \n",
    "1. [Introduction](#Introduction)\n",
    "2. [Second Quantization](#Second-Quantization)\n",
    "3. [One body operator](#One-body-operator)\n",
    "4. [Two body operator](#Two-body-operator)\n",
    "5. [Wicks theorem](#Wicks-theorem)\n",
    "6. [Baker-Campbell-Hauersdorf](#Baker-Campbell-Hauersdorf)\n",
    "7. [Hartree-Fock](#Hartree-Fock)\n",
    "8. [Coupled-Cluster](#Coupled-Cluster)\n",
    "9. [Equation-of-motion Coupled-Cluster](#Equation-of-motion-Coupled-Cluster)"
   ]
  },
  {
   "cell_type": "markdown",
   "metadata": {},
   "source": [
    "### Introduction\n",
    "We will have hands on tutorial for the derivation of EOM-CCSD amplitudes with one and two particle density matrix. I have developed a symbolic library using [sympy](https://www.sympy.org/en/index.html) for deriving analytical expressions which can be easily extend to any operator. \n",
    "\n",
    "First, we will derive the fermionic algebra from first quantization and study their properties. "
   ]
  },
  {
   "cell_type": "markdown",
   "metadata": {},
   "source": [
    "### Second Quantization\n",
    "\n",
    "In this section we will derive the fermionic algebra in second quantization representation from first quantization. Once the fermionic algebra is established, we will derive the relation between the its elements\n",
    "\n",
    "\n",
    "$$\\newcommand{\\ket}[1]{\\left|{#1}\\right\\rangle}$$\n",
    "$$\\newcommand{\\bra}[1]{\\left\\langle{#1}\\right|}$$\n",
    "$$ \\ket{k} = {a^{+}_{k}}\\ket{vac} $$\n",
    "\n",
    "The opertor $a^{+}_{k}$ has created an electron on the vaccum state. \n",
    "$$\\phi_{k}(1) \\longleftrightarrow {a^{+}_{k}}\\ket{vac} $$\n",
    "\n",
    "If there are two electrons the wavefunction in first quantization is \n",
    "$$ \\Phi(1,2) = \\frac{1}{\\sqrt{2}} \n",
    "\\begin{vmatrix}\n",
    "\\phi_{i}(1) & \\phi_{k}(1) \\\\\n",
    "\\phi_{i}(2) & \\phi_{k}(2) \n",
    "\\end{vmatrix} $$\n",
    "\n",
    "The same in second quantization is \n",
    "$$\\ket{ik} = {a^{+}_{i}a^{+}_{k}}\\ket{vac} $$\n",
    "\n",
    "As $ \\Phi(1,2)$ is an antisymmetric function therefore the creation operator in second quantization should respect this antisymmetry. \n",
    "\n",
    "$$\\Phi(2,1) = - \\Phi(1,2)  \\longleftrightarrow {a^{+}_{k}a^{+}_{i}}\\ket{vac} = - {a^{+}_{i}a^{+}_{k}}\\ket{vac} $$\n",
    "\n",
    "One can see that the antisymmetry requirement is fulfilled by having the anticommutation relation between creation operators.\n",
    "\n",
    "$$a^{+}_{k}a^{+}_{i} + a^{+}_{i}a^{+}_{k} = \\{a^{+}_{k} , a^{+}_{i} \\} = 0 \\tag{QED} $$"
   ]
  },
  {
   "cell_type": "markdown",
   "metadata": {},
   "source": [
    "Now we will repeat the same excercice for anhilation operators. Consider first one-electron system by creating an electron on $i$th orbital using $a_{i}^{+} $. We can define the anhilator operator $a_{i}$, which act on the former state and returns back the system to $\\ket{vac}$. \n",
    "\n",
    "$$a_{i} a_{i}^{+} \\ket{vac} = \\ket{vac}$$. \n",
    "\n",
    "When there is no electron in a orbital $i$, then it should result to zero. \n",
    "$$a_{i} \\ket{vac} = 0$$. \n",
    "\n",
    "In order to establish the anticommutation of anhilation operators we will utilize anticommutation relation of creation operators.\n",
    "\n",
    "$$ a_{i} a_{k} \\ket{ki} = \\ket{vac} \\ \\ \\  \\& \\ \\ \\  a_{k} a_{i} \\ket{ik} = \\ket{vac} = -a_{k} a_{i} \\ket{ki}$$\n",
    "\n",
    "Therefore, \n",
    "$$ a_{i}a_{k} + a_{k}a_{i}  = \\{a_{k}, a_{i}\\} = 0 \\tag{QED}$$\n"
   ]
  },
  {
   "cell_type": "markdown",
   "metadata": {},
   "source": [
    "Now we already have two anticommutation relation and will try to derive the third, between creation and anhilation operators. Consider two orbitals $i \\ \\& \\ k$, where $i\\neq k$\n",
    "\n",
    "$$a_{i}a_{k}^{+}\\ket{i} = a_{i}\\ket{ki} = - a_{i}\\ket{ik} = - \\ket{k}$$\n",
    "\n",
    "Reversing the action, \n",
    "\n",
    "$$a_{k}^{+} a_{i}\\ket{i} = \\ket{k}$$\n",
    "\n",
    "Comparing both \n",
    "\n",
    "$$a_{k}^{+} a_{i} + a_{i}a_{k}^{+} = \\{ a_{i}, a_{k}^{+} \\} = 0 $$\n",
    "\n",
    "But when $i = k$, then \n",
    "\n",
    "$$a_{i}^{+} a_{i} + a_{i}a_{i}^{+} = \\{ a_{i}, a_{i}^{+} \\} = 1 $$\n",
    "\n",
    "Therefore the final expression which captures both sitation is \n",
    "\n",
    "$$a_{i}^{+} a_{k} + a_{k}a_{i}^{+} = \\{ a_{i}^{+}, a_{k} \\} = \\delta_{ik} \\tag{QED}$$ \n",
    "\n",
    "Last, we need to establish the adjoint relation between anhilation and creation operator. Consider \n",
    "\n",
    "$$a_{i}a_{k}^{+} = \\delta_{ik}\\ket{vac}$$\n",
    "\n",
    "From first quantization \n",
    "\n",
    "$$\\braket {\\phi_{i}}{\\phi_{k}} = \\delta_{ik}$$\n",
    "\n",
    "Using second quantization on right hand side where $\\dagger$ indicates hermitian conjugate\n",
    " \n",
    "$$\\bra{vac}(a_{i}^{+})^{\\dagger} a_{k}^{\\dagger}\\ket{vac} = \\delta_{ik}$$\n",
    "\n",
    "It is only true if \n",
    "\n",
    "$$(a_{i}^{+})^{\\dagger} = a_{i}$$\n",
    "\n",
    "Hence, $a_{i}^{+} = a_{i}^{\\dagger}$ which means creation operator for $i$th orbital is hermitian conjugate of\n",
    "anhilation operator for the same orbital. From now on for creation operator we will use  $\\dagger$ as superscript instead of $+$\n"
   ]
  },
  {
   "cell_type": "markdown",
   "metadata": {},
   "source": [
    "### One body operator\n",
    "\n",
    "We succesfully showed the transformation of basis from first quantization to second quantization by creating fermionic algebra. Now we will do the same for operators. Lets do it for one body operators. \n"
   ]
  },
  {
   "cell_type": "markdown",
   "metadata": {},
   "source": [
    "### Wicks Theorem "
   ]
  },
  {
   "cell_type": "markdown",
   "metadata": {},
   "source": [
    "### Baker-Campbell-Hauersdorf\n",
    "Define the expansion and importance in molecular Hamiltonian"
   ]
  },
  {
   "cell_type": "markdown",
   "metadata": {},
   "source": [
    "### Equation-of-motion Coupled-Cluster\n",
    "Defining opeartors for all flavor of EOM "
   ]
  },
  {
   "cell_type": "markdown",
   "metadata": {},
   "source": [
    "#### One particle density matrix (OPDM)"
   ]
  },
  {
   "cell_type": "code",
   "execution_count": 1,
   "metadata": {},
   "outputs": [
    {
     "data": {
      "text/markdown": [
       " Computing OPDM for IP (skipping summation for dummy variables)"
      ],
      "text/plain": [
       "<IPython.core.display.Markdown object>"
      ]
     },
     "metadata": {},
     "output_type": "display_data"
    },
    {
     "data": {
      "text/latex": [
       "$\\displaystyle \\gamma_{ij} = \\delta_{i j} L^{k}_{} R^{}_{k} + \\frac{\\delta_{i j} L^{kl}_{a} R^{a}_{kl}}{2} - L^{j}_{} R^{}_{i} + L^{jk}_{a} R^{}_{k} T^{a}_{i} - L^{jk}_{a} R^{a}_{ik}$"
      ],
      "text/plain": [
       "Eq(\\gamma_{ij}, KroneckerDelta(i, j)*AntiSymmetricTensor(L, (_k,), ())*AntiSymmetricTensor(R, (), (_k,)) + KroneckerDelta(i, j)*AntiSymmetricTensor(L, (_k, _l), (_a,))*AntiSymmetricTensor(R, (_a,), (_k, _l))/2 - AntiSymmetricTensor(L, (j,), ())*AntiSymmetricTensor(R, (), (i,)) + AntiSymmetricTensor(L, (j, _k), (_a,))*AntiSymmetricTensor(R, (), (_k,))*AntiSymmetricTensor(T, (_a,), (i,)) - AntiSymmetricTensor(L, (j, _k), (_a,))*AntiSymmetricTensor(R, (_a,), (i, _k)))"
      ]
     },
     "metadata": {},
     "output_type": "display_data"
    },
    {
     "data": {
      "text/latex": [
       "$\\displaystyle \\gamma_{ia} = L^{j}_{} R^{}_{j} T^{a}_{i} - L^{j}_{} R^{}_{i} T^{a}_{j} - L^{j}_{} R^{a}_{ij} - L^{jk}_{b} R^{}_{j} T^{b}_{i} T^{a}_{k} + L^{jk}_{b} R^{}_{j} T^{ab}_{ik} - \\frac{L^{jk}_{b} R^{}_{i} T^{ab}_{jk}}{2} + \\frac{L^{jk}_{b} R^{b}_{jk} T^{a}_{i}}{2} + L^{jk}_{b} R^{b}_{ij} T^{a}_{k} - \\frac{L^{jk}_{b} R^{a}_{jk} T^{b}_{i}}{2}$"
      ],
      "text/plain": [
       "Eq(\\gamma_{ia}, AntiSymmetricTensor(L, (_j,), ())*AntiSymmetricTensor(R, (), (_j,))*AntiSymmetricTensor(T, (a,), (i,)) - AntiSymmetricTensor(L, (_j,), ())*AntiSymmetricTensor(R, (), (i,))*AntiSymmetricTensor(T, (a,), (_j,)) - AntiSymmetricTensor(L, (_j,), ())*AntiSymmetricTensor(R, (a,), (i, _j)) - AntiSymmetricTensor(L, (_j, _k), (_b,))*AntiSymmetricTensor(R, (), (_j,))*AntiSymmetricTensor(T, (_b,), (i,))*AntiSymmetricTensor(T, (a,), (_k,)) + AntiSymmetricTensor(L, (_j, _k), (_b,))*AntiSymmetricTensor(R, (), (_j,))*AntiSymmetricTensor(T, (a, _b), (i, _k)) - AntiSymmetricTensor(L, (_j, _k), (_b,))*AntiSymmetricTensor(R, (), (i,))*AntiSymmetricTensor(T, (a, _b), (_j, _k))/2 + AntiSymmetricTensor(L, (_j, _k), (_b,))*AntiSymmetricTensor(R, (_b,), (_j, _k))*AntiSymmetricTensor(T, (a,), (i,))/2 + AntiSymmetricTensor(L, (_j, _k), (_b,))*AntiSymmetricTensor(R, (_b,), (i, _j))*AntiSymmetricTensor(T, (a,), (_k,)) - AntiSymmetricTensor(L, (_j, _k), (_b,))*AntiSymmetricTensor(R, (a,), (_j, _k))*AntiSymmetricTensor(T, (_b,), (i,))/2)"
      ]
     },
     "metadata": {},
     "output_type": "display_data"
    },
    {
     "data": {
      "text/latex": [
       "$\\displaystyle \\gamma_{ai} = - L^{ij}_{a} R^{}_{j}$"
      ],
      "text/plain": [
       "Eq(\\gamma_{ai}, -AntiSymmetricTensor(L, (i, _j), (a,))*AntiSymmetricTensor(R, (), (_j,)))"
      ]
     },
     "metadata": {},
     "output_type": "display_data"
    },
    {
     "data": {
      "text/latex": [
       "$\\displaystyle \\gamma_{ab} = L^{ij}_{a} R^{}_{i} T^{b}_{j} + \\frac{L^{ij}_{a} R^{b}_{ij}}{2}$"
      ],
      "text/plain": [
       "Eq(\\gamma_{ab}, AntiSymmetricTensor(L, (_i, _j), (a,))*AntiSymmetricTensor(R, (), (_i,))*AntiSymmetricTensor(T, (b,), (_j,)) + AntiSymmetricTensor(L, (_i, _j), (a,))*AntiSymmetricTensor(R, (b,), (_i, _j))/2)"
      ]
     },
     "metadata": {},
     "output_type": "display_data"
    }
   ],
   "source": [
    "import EOM\n",
    "import DM\n",
    "import TDM\n",
    "\n",
    "flavor1 = \"IP\"                                                                 \n",
    "R0_f1 = EOM.R0(flavor1)                                                    \n",
    "R1_f1 = EOM.R1(flavor1)                                                    \n",
    "R2_f1 = EOM.R2(flavor1)                                                    \n",
    "Rf1  = R0_f1 + R1_f1 + R2_f1                                                 \n",
    "                                                                                \n",
    "L0_f1 = EOM.L0(flavor1)                                                    \n",
    "L1_f1 = EOM.L1(flavor1)                                                    \n",
    "L2_f1 = EOM.L2(flavor1)                                                    \n",
    "Lf1  = L0_f1 + L1_f1 + L2_f1                                                                                                      \n",
    "                                                                                                                       \n",
    "DM.OPDM(Lf1,Rf1,flavor1)"
   ]
  },
  {
   "cell_type": "markdown",
   "metadata": {},
   "source": [
    "#### One particle transition density matrix (OPTDM)"
   ]
  },
  {
   "cell_type": "code",
   "execution_count": 2,
   "metadata": {},
   "outputs": [
    {
     "data": {
      "text/markdown": [
       " Computing Dyson OPTDM between IP $\\rightarrow$ CCSD (skipping summation for dummy variables)"
      ],
      "text/plain": [
       "<IPython.core.display.Markdown object>"
      ]
     },
     "metadata": {},
     "output_type": "display_data"
    },
    {
     "data": {
      "text/latex": [
       "$\\displaystyle \\gamma_i^{R} = - L^{j}_{b} R^{}_{j} T^{b}_{i} + L^{j}_{b} R^{b}_{ij} - \\frac{L^{jk}_{bc} R^{}_{j} T^{bc}_{ik}}{2} + \\frac{L^{jk}_{bc} R^{b}_{jk} T^{c}_{i}}{2} + R^{}_{i}$"
      ],
      "text/plain": [
       "Eq(\\gamma_i^{R}, -AntiSymmetricTensor(L, (_j,), (_b,))*AntiSymmetricTensor(R, (), (_j,))*AntiSymmetricTensor(T, (_b,), (i,)) + AntiSymmetricTensor(L, (_j,), (_b,))*AntiSymmetricTensor(R, (_b,), (i, _j)) - AntiSymmetricTensor(L, (_j, _k), (_b, _c))*AntiSymmetricTensor(R, (), (_j,))*AntiSymmetricTensor(T, (_b, _c), (i, _k))/2 + AntiSymmetricTensor(L, (_j, _k), (_b, _c))*AntiSymmetricTensor(R, (_b,), (_j, _k))*AntiSymmetricTensor(T, (_c,), (i,))/2 + AntiSymmetricTensor(R, (), (i,)))"
      ]
     },
     "metadata": {},
     "output_type": "display_data"
    },
    {
     "data": {
      "text/latex": [
       "$\\displaystyle \\gamma_a^{R} = L^{j}_{a} R^{}_{j} + \\frac{L^{jk}_{ab} R^{b}_{jk}}{2}$"
      ],
      "text/plain": [
       "Eq(\\gamma_a^{R}, AntiSymmetricTensor(L, (_j,), (a,))*AntiSymmetricTensor(R, (), (_j,)) + AntiSymmetricTensor(L, (_j, _k), (a, _b))*AntiSymmetricTensor(R, (_b,), (_j, _k))/2)"
      ]
     },
     "metadata": {},
     "output_type": "display_data"
    },
    {
     "data": {
      "text/latex": [
       "$\\displaystyle \\gamma_i^{L} = L^{i}_{}$"
      ],
      "text/plain": [
       "Eq(\\gamma_i^{L}, AntiSymmetricTensor(L, (i,), ()))"
      ]
     },
     "metadata": {},
     "output_type": "display_data"
    },
    {
     "data": {
      "text/latex": [
       "$\\displaystyle \\gamma_a^{L} = L^{i}_{} T^{a}_{i} + \\frac{L^{ij}_{c} T^{ac}_{ij}}{2}$"
      ],
      "text/plain": [
       "Eq(\\gamma_a^{L}, AntiSymmetricTensor(L, (_i,), ())*AntiSymmetricTensor(T, (a,), (_i,)) + AntiSymmetricTensor(L, (_i, _j), (_c,))*AntiSymmetricTensor(T, (a, _c), (_i, _j))/2)"
      ]
     },
     "metadata": {},
     "output_type": "display_data"
    }
   ],
   "source": [
    "flavor2 = \"CCSD\"                                                                \n",
    "R0_f2 = EOM.R0(flavor2)                                                    \n",
    "R1_f2 = EOM.R1(flavor2)                                                    \n",
    "R2_f2 = EOM.R2(flavor2)                                                    \n",
    "Rf2  = R0_f2 + R1_f2 + R1_f2                                                   \n",
    "                                                                                \n",
    "L0_f2 = EOM.L0(flavor2)                                                    \n",
    "L1_f2 = EOM.L1(flavor2)                                                    \n",
    "L2_f2 = EOM.L2(flavor2)                                                    \n",
    "Lf2  = L0_f2 + L1_f2 + L2_f2                                                \n",
    "\n",
    "TDM.OPTDM(Lf1,Rf1,Lf2,Rf2,flavor1,flavor2)"
   ]
  },
  {
   "cell_type": "code",
   "execution_count": null,
   "metadata": {},
   "outputs": [],
   "source": []
  }
 ],
 "metadata": {
  "kernelspec": {
   "display_name": "Python 3",
   "language": "python",
   "name": "python3"
  },
  "language_info": {
   "codemirror_mode": {
    "name": "ipython",
    "version": 3
   },
   "file_extension": ".py",
   "mimetype": "text/x-python",
   "name": "python",
   "nbconvert_exporter": "python",
   "pygments_lexer": "ipython3",
   "version": "3.7.4"
  }
 },
 "nbformat": 4,
 "nbformat_minor": 2
}
