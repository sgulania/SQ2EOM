{
 "cells": [
  {
   "cell_type": "markdown",
   "metadata": {},
   "source": [
    "## From Second Quantization to Equation-of-Motion Coupled-Cluster using sympy\n",
    "\n",
    "### Table of contents \n",
    "1. [Introduction](#Introduction)\n",
    "2. [Second Quantization](#Second-Quantization)\n",
    "3. [Wicks theorem](#Wicks-theorem)\n",
    "4. [One body operator](#One-body-operator)\n",
    "5. [Two body operator](#Two-body-operator)\n",
    "6. [Baker-Campbell-Hauersdorf](#Baker-Campbell-Hauersdorf)\n",
    "7. [Hartree-Fock](#Hartree-Fock)\n",
    "8. [Coupled-Cluster](#Coupled-Cluster)\n",
    "9. [Equation-of-motion Coupled-Cluster](#Equation-of-motion-Coupled-Cluster)"
   ]
  },
  {
   "cell_type": "markdown",
   "metadata": {},
   "source": [
    "### Introduction\n",
    "We will have hands on tutorial for the derivation of amplitudes with one and two particle density matrix and transition density matrix for equation of motion coupled-cluster theory. We will build our symbolic library using [sympy](https://www.sympy.org/en/index.html).\n",
    "One can easily extend this to any operator."
   ]
  },
  {
   "cell_type": "markdown",
   "metadata": {},
   "source": [
    "### Second Quantization"
   ]
  },
  {
   "cell_type": "markdown",
   "metadata": {},
   "source": [
    "### Equation-of-motion Coupled-Cluster\n",
    "Defining opeartors for all flavor of EOM "
   ]
  },
  {
   "cell_type": "code",
   "execution_count": 1,
   "metadata": {},
   "outputs": [],
   "source": [
    "from sympy import *                                                             \n",
    "from sympy.physics.secondquant import F, Fd,AntiSymmetricTensor,NO\n",
    "from fractions import Fraction                                                  \n",
    "\n",
    "def R0(expr):\n",
    "\n",
    " if   expr == \"IP\":\n",
    "  R0 = 0\n",
    "  return R0\n",
    " elif expr == \"DIP\":\n",
    "  R0 = 0\n",
    "  return R0\n",
    " elif expr == \"EA\":\n",
    "  R0 = 0\n",
    "  return R0\n",
    " elif expr == \"DEA\":\n",
    "  R0 = 0\n",
    "  return R0\n",
    " elif expr == \"EE\":\n",
    "  R0 = Fraction(1, 1)*AntiSymmetricTensor('R0',(),())\n",
    "  return R0\n",
    " elif expr == \"CCSD\":\n",
    "  R0 = 1\n",
    "  return R0\n",
    "\n",
    "\n",
    "def R1(expr):                                                           \n",
    "\n",
    " i1,i2,i3 = symbols('i1,i2,i3' ,below_fermi=True, cls=Dummy)                          \n",
    " a1,a2,a3 = symbols('a1,a2,i3' ,above_fermi=True, cls=Dummy)\n",
    "\n",
    " if   expr == \"IP\":                                                             \n",
    "  R1 = Fraction(1, 1)*AntiSymmetricTensor('R',(),(i1,))*(F(i1))                                                            \n",
    "  return R1                                                                     \n",
    " elif expr == \"DIP\":                                                            \n",
    "  R1 = Fraction(1, 2)*AntiSymmetricTensor('R',(),(i1,i2))*F(i2)*F(i1)          \n",
    "  return R1\n",
    " elif expr == \"EA\":\n",
    "  R1 = Fraction(1, 1)*AntiSymmetricTensor('R',(a1,),())*Fd(a1)\n",
    "  return R1\n",
    " elif expr == \"DEA\":\n",
    "  R1 = Fraction(1, 2)*AntiSymmetricTensor('R',(a1,a2),())*NO(Fd(a1)*Fd(a2))\n",
    "  return R1                                                                   \n",
    " elif expr == \"EE\":\n",
    "  R1 = Fraction(1, 1)*AntiSymmetricTensor('R',(a1,),(i1,))*Fd(a1)*F(i1)\n",
    "  return R1\n",
    " elif expr == \"CCSD\":\n",
    "  R1 = 0\n",
    "  return R1\n",
    "                                                                                \n",
    "def R2(expr):                                                           \n",
    " i1,i2,i3,i4,i5 = symbols('i1,i2,i3,i4,i5' ,below_fermi=True, cls=Dummy)\n",
    " a1,a2,a3,a4,a5 = symbols('a1,a2,a3,a4,a5' ,above_fermi=True, cls=Dummy)                          \n",
    " if   expr == \"IP\":                                                             \n",
    "  R2 = Fraction(1, 2)*AntiSymmetricTensor('R',(a1,),(i2,i3))*Fd(a1)*F(i3)*F(i2)                  \n",
    "  return R2                                                                     \n",
    " elif expr == \"DIP\":                                                            \n",
    "  R2 = Fraction(1, 6)*AntiSymmetricTensor('R',(a1,),(i3,i4,i5))*Fd(a1)*F(i5)*F(i4)*F(i3)          \n",
    "  return R2\n",
    " elif expr == \"EA\":\n",
    "  R2 = Fraction(1, 2)*AntiSymmetricTensor('R',(a2,a3),(i1,))*Fd(a2)*Fd(a3)*F(i1)\n",
    "  return R2\n",
    " elif expr == \"DEA\":\n",
    "  R2 = Fraction(1, 6)*AntiSymmetricTensor('R',(a3,a4,a5),(i1,))*NO(Fd(a3)*Fd(a4)*Fd(a5)*F(i1))\n",
    "  return R2                                                                   \n",
    " elif expr == \"EE\":\n",
    "  R2 = Fraction(1, 4)*AntiSymmetricTensor('R',(a2,a3),(i2,i3))*Fd(a2)*Fd(a3)*F(i3)*F(i2)\n",
    "  return R2\n",
    " elif expr == \"CCSD\":\n",
    "  R2 = 0\n",
    "  return R2\n",
    "\n",
    "\n",
    "def L0(expr):\n",
    "\n",
    " if   expr == \"IP\":\n",
    "  L0 = 0\n",
    "  return L0\n",
    " elif expr == \"DIP\":\n",
    "  L0 = 0\n",
    "  return L0\n",
    " elif expr == \"EA\":\n",
    "  L0 = 0\n",
    "  return L0\n",
    " elif expr == \"DEA\":\n",
    "  L0 = 0\n",
    "  return L0\n",
    " elif expr == \"EE\":\n",
    "  L0 = Fraction(1, 1)*AntiSymmetricTensor('L0',(),())\n",
    "  return L0\n",
    " elif expr == \"CCSD\":\n",
    "  L0 = 1\n",
    "  return L0\n",
    "\n",
    "\n",
    "def L1(expr):                                                           \n",
    " j1,j2,j3 = symbols('j1,j2,j3' ,below_fermi=True, cls=Dummy)                          \n",
    " b1,b2,b3 = symbols('b1,b2,b3' ,above_fermi=True, cls=Dummy)\n",
    "\n",
    " if   expr == \"IP\":                                                             \n",
    "  L1 = Fraction(1, 1)*AntiSymmetricTensor('L',(j1,),())*Fd(j1)\n",
    "  return L1                                                                     \n",
    " elif expr == \"DIP\":                                                            \n",
    "  L1 = Fraction(1, 2)*AntiSymmetricTensor('L',(j1,j2),())*Fd(j1)*Fd(j2)          \n",
    "  return L1\n",
    " elif expr == \"EA\":\n",
    "  L1 = Fraction(1, 1)*AntiSymmetricTensor('L',(),(b1,))*F(b1)\n",
    "  return L1\n",
    " elif expr == \"DEA\":\n",
    "  L1 = Fraction(1, 2)*AntiSymmetricTensor('L',(),(b1,b2))*F(b2)*F(b1)\n",
    "  return L1                                                                   \n",
    " elif expr == \"EE\":\n",
    "  L1 = Fraction(1, 1)*AntiSymmetricTensor('L',(j1,),(b1,))*Fd(j1)*F(b1)\n",
    "  return L1\n",
    " elif expr == \"CCSD\":\n",
    "  L1 = Fraction(1, 1)*AntiSymmetricTensor('L',(j1,),(b1,))*Fd(j1)*F(b1)\n",
    "  return L1\n",
    "                                                                                \n",
    "def L2(expr):                                                           \n",
    " j1,j2,j3,j4,j5 = symbols('j1,j2,j3,j4,j5' ,below_fermi=True, cls=Dummy)\n",
    " b1,b2,b3,b4,b5 = symbols('b1,b2,b3,b4,b5' ,above_fermi=True, cls=Dummy)                          \n",
    " if   expr == \"IP\":                                                             \n",
    "  L2 = Fraction(1, 2)*AntiSymmetricTensor('L',(j2,j3),(b1,))*Fd(j2)*Fd(j3)*F(b1)                  \n",
    "  return L2                                                                     \n",
    " elif expr == \"DIP\":                                                            \n",
    "  L2 = Fraction(1, 6)*AntiSymmetricTensor('L',(j3,j4,j5),(b1,))*Fd(j3)*Fd(j4)*Fd(j5)*F(b1)          \n",
    "  return L2\n",
    " elif expr == \"EA\":\n",
    "  L2 = Fraction(1, 2)*AntiSymmetricTensor('L',(j1,),(b2,b3))*Fd(j1)*F(b3)*F(b2)\n",
    "  return L2\n",
    " elif expr == \"DEA\":\n",
    "  L2 = Fraction(1, 6)*AntiSymmetricTensor('L',(j1,),(b3,b4,b5))*Fd(j1)*F(b5)*F(b4)*F(b3)\n",
    "  return L2                                                                   \n",
    " elif expr == \"EE\":\n",
    "  L2 = Fraction(1, 4)*AntiSymmetricTensor('L',(j2,j3),(b2,b3))*Fd(j2)*Fd(j3)*F(b3)*F(b2)\n",
    "  return L2\n",
    " elif expr == \"CCSD\":\n",
    "  L2 = Fraction(1, 4)*AntiSymmetricTensor('L',(j2,j3),(b2,b3))*Fd(j2)*Fd(j3)*F(b3)*F(b2)\n",
    "  return L2\n"
   ]
  },
  {
   "cell_type": "code",
   "execution_count": 2,
   "metadata": {},
   "outputs": [],
   "source": [
    "from sympy import *                                                             \n",
    "from sympy.physics.secondquant import F, Fd,Commutator,AntiSymmetricTensor      \n",
    "from sympy.physics.quantum import Commutator, Dagger, Operator                  \n",
    "from fractions import Fraction                                                  \n",
    "                                                                                \n",
    "def level(main,expr):                                                           \n",
    " #setup T                                                                        \n",
    " k1,k2,k3,k4,k5,k6,k7,k8,k9,k10,k11,k12 = symbols('k1,k2,k3,k4,k5,k6,k7,k8,k9,k10,k11,k12' , below_fermi=True, cls=Dummy)\n",
    " d1,d2,d3,d4,d5,d6,d7,d8,d9,d10,d11,d12 = symbols('d1,d2,d3,d4,d5,d6,d7,d8,d9,d10,d11,d12' , above_fermi=True, cls=Dummy)\n",
    "                                                                                \n",
    " TA1 = AntiSymmetricTensor('T',(d1,),(k1,))*Fd(d1)*F(k1)                       \n",
    " TA2 = Fraction(1, 4)*AntiSymmetricTensor('T',(d2,d3),(k2,k3))*Fd(d2)*Fd(d3)*F(k3)*F(k2)\n",
    " TA  = TA1+TA2                                                                  \n",
    "                                                                                \n",
    " TB1 = AntiSymmetricTensor('T',(d4,),(k4,))*Fd(d4)*F(k4)                       \n",
    " TB2 = Fraction(1, 4)*AntiSymmetricTensor('T',(d5,d6),(k5,k6))*Fd(d5)*Fd(d6)*F(k6)*F(k5)\n",
    " TB  = TB1+TB2                                                                  \n",
    "                                                                                \n",
    " TC1 = AntiSymmetricTensor('T',(d7,),(k7,))*Fd(d7)*F(k7)                       \n",
    " TC2 = Fraction(1, 4)*AntiSymmetricTensor('T',(d8,d9),(k8,k9))*Fd(d8)*Fd(d9)*F(k9)*F(k8)\n",
    " TC  = TC1+TC2                                                                  \n",
    "                                                                                \n",
    " TD1 = AntiSymmetricTensor('T',(d10,),(k10,))*Fd(d10)*F(k10)                   \n",
    " TD2 = Fraction(1, 4)*AntiSymmetricTensor('T',(d11,d12),(k11,k12))*Fd(d11)*Fd(d12)*F(k11)*F(k12)\n",
    " TD = TD1+TD2                                                                   \n",
    "                                                                                \n",
    " # BCH expansion                                                                \n",
    " if expr == \"SD\":                                                               \n",
    "  BCH_expansion = main + Commutator(main,TA) + Fraction(1, 2)*Commutator(Commutator(main,TA),TB) + \\\n",
    "                                Fraction(1, 6)*Commutator(Commutator(Commutator(main,TA),TB),TC) + \\\n",
    "                                Fraction(1, 24)*Commutator(Commutator(Commutator(Commutator(main,TA),TB),TC),TD)\n",
    "  return BCH_expansion"
   ]
  },
  {
   "cell_type": "code",
   "execution_count": 3,
   "metadata": {},
   "outputs": [
    {
     "data": {
      "text/markdown": [
       " Computing Dyson OPTDM between IP $\\rightarrow$ CCSD (skipping summation for dummy variables)"
      ],
      "text/plain": [
       "<IPython.core.display.Markdown object>"
      ]
     },
     "metadata": {},
     "output_type": "display_data"
    },
    {
     "data": {
      "text/latex": [
       "$\\displaystyle \\gamma_i^{R} = - L^{j}_{b} R^{}_{j} T^{b}_{i} + L^{j}_{b} R^{b}_{ij} - \\frac{L^{jk}_{bc} R^{}_{j} T^{bc}_{ik}}{2} + \\frac{L^{jk}_{bc} R^{b}_{jk} T^{c}_{i}}{2} + R^{}_{i}$"
      ],
      "text/plain": [
       "Eq(\\gamma_i^{R}, -AntiSymmetricTensor(L, (_j,), (_b,))*AntiSymmetricTensor(R, (), (_j,))*AntiSymmetricTensor(T, (_b,), (i,)) + AntiSymmetricTensor(L, (_j,), (_b,))*AntiSymmetricTensor(R, (_b,), (i, _j)) - AntiSymmetricTensor(L, (_j, _k), (_b, _c))*AntiSymmetricTensor(R, (), (_j,))*AntiSymmetricTensor(T, (_b, _c), (i, _k))/2 + AntiSymmetricTensor(L, (_j, _k), (_b, _c))*AntiSymmetricTensor(R, (_b,), (_j, _k))*AntiSymmetricTensor(T, (_c,), (i,))/2 + AntiSymmetricTensor(R, (), (i,)))"
      ]
     },
     "metadata": {},
     "output_type": "display_data"
    },
    {
     "data": {
      "text/latex": [
       "$\\displaystyle \\gamma_a^{R} = L^{j}_{a} R^{}_{j} + \\frac{L^{jk}_{ab} R^{b}_{jk}}{2}$"
      ],
      "text/plain": [
       "Eq(\\gamma_a^{R}, AntiSymmetricTensor(L, (_j,), (a,))*AntiSymmetricTensor(R, (), (_j,)) + AntiSymmetricTensor(L, (_j, _k), (a, _b))*AntiSymmetricTensor(R, (_b,), (_j, _k))/2)"
      ]
     },
     "metadata": {},
     "output_type": "display_data"
    },
    {
     "data": {
      "text/latex": [
       "$\\displaystyle \\gamma_i^{L} = L^{i}_{}$"
      ],
      "text/plain": [
       "Eq(\\gamma_i^{L}, AntiSymmetricTensor(L, (i,), ()))"
      ]
     },
     "metadata": {},
     "output_type": "display_data"
    },
    {
     "data": {
      "text/latex": [
       "$\\displaystyle \\gamma_a^{L} = L^{i}_{} T^{a}_{i} + \\frac{L^{ij}_{c} T^{ac}_{ij}}{2}$"
      ],
      "text/plain": [
       "Eq(\\gamma_a^{L}, AntiSymmetricTensor(L, (_i,), ())*AntiSymmetricTensor(T, (a,), (_i,)) + AntiSymmetricTensor(L, (_i, _j), (_c,))*AntiSymmetricTensor(T, (a, _c), (_i, _j))/2)"
      ]
     },
     "metadata": {},
     "output_type": "display_data"
    }
   ],
   "source": [
    "from sympy import *                                                             \n",
    "from sympy.physics.secondquant import F, Fd, wicks, Commutator,evaluate_deltas,AntiSymmetricTensor                  \n",
    "from sympy.physics.quantum import Commutator, Dagger, Operator\n",
    "from fractions import Fraction\n",
    "from sympy.physics.secondquant import simplify_index_permutations\n",
    "from sympy.physics.secondquant import PermutationOperator\n",
    "from sympy.physics.secondquant import substitute_dummies\n",
    "from sympy.printing.latex import LatexPrinter, print_latex\n",
    "from IPython.display import display\n",
    "from IPython.display import Math, Markdown\n",
    "\n",
    "\n",
    "flavor1 = \"IP\"                                                                 \n",
    "R0_f1 = R0(flavor1)                                                    \n",
    "R1_f1 = R1(flavor1)                                                    \n",
    "R2_f1 = R2(flavor1)                                                    \n",
    "Rf1  = R0_f1 + R1_f1 + R2_f1                                                 \n",
    "                                                                                \n",
    "L0_f1 = L0(flavor1)                                                    \n",
    "L1_f1 = L1(flavor1)                                                    \n",
    "L2_f1 = L2(flavor1)                                                    \n",
    "Lf1  = L0_f1 + L1_f1 + L2_f1                                                                                                      \n",
    "                                                                                \n",
    "flavor2 = \"CCSD\"                                                                \n",
    "R0_f2 = R0(flavor2)                                                    \n",
    "R1_f2 = R1(flavor2)                                                    \n",
    "R2_f2 = R2(flavor2)                                                    \n",
    "Rf2  = R0_f2 + R1_f2 + R1_f2                                                   \n",
    "                                                                                \n",
    "L0_f2 = L0(flavor2)                                                    \n",
    "L1_f2 = L1(flavor2)                                                    \n",
    "L2_f2 = L2(flavor2)                                                    \n",
    "Lf2  = L0_f2 + L1_f2 + L2_f2                                                \n",
    "\n",
    "display(Markdown\n",
    "    (rf\"\"\" Computing Dyson OPTDM between {flavor1} $\\rightarrow$ {flavor2} (skipping summation for dummy variables)\"\"\"))\n",
    "\n",
    "\n",
    "\n",
    "i = symbols('i' , below_fermi=True)\n",
    "a = symbols('a' , above_fermi=True)\n",
    " \n",
    "index_rule = {'below':  'jklmn','above':  'bcde'}\n",
    "\n",
    "oo = Fd(i)\n",
    "cc = level(oo,\"SD\")\n",
    "g_oo = evaluate_deltas(wicks(Lf2*cc*Rf1 , keep_only_fully_contracted=True))\n",
    "g_oo = substitute_dummies(g_oo,new_indices=True, pretty_indices=index_rule)\n",
    "gamma = Symbol('\\gamma_i^{R}')\n",
    "final_eq = Eq(gamma, g_oo)\n",
    "display(final_eq)\n",
    "                                                  \n",
    "ov = Fd(a)                                                                     \n",
    "cc = level(ov,\"SD\")                                                        \n",
    "g_ov = evaluate_deltas(wicks(Lf2*cc*Rf1 , keep_only_fully_contracted=True))      \n",
    "index_rule = {'below':  'jklmn','above':  'bcdef'}                             \n",
    "g_ov = substitute_dummies(g_ov,new_indices=True, pretty_indices=index_rule)    \n",
    "gamma = Symbol('\\gamma_a^{R}')\n",
    "final_eq = Eq(gamma, g_ov)\n",
    "display(final_eq)\n",
    "                                                      \n",
    "vo = F(i)                                                                      \n",
    "cc = level(vo,\"SD\")                                                        \n",
    "g_vo = evaluate_deltas(wicks(Lf1*cc*Rf2 , keep_only_fully_contracted=True))      \n",
    "index_rule = {'below':  'jklmn','above':  'bcdef'}                             \n",
    "g_vo = substitute_dummies(g_vo,new_indices=True, pretty_indices=index_rule)    \n",
    "gamma = Symbol('\\gamma_i^{L}')\n",
    "final_eq = Eq(gamma, g_vo)\n",
    "display(final_eq)\n",
    "                                                     \n",
    "vv = F(a)                                                                      \n",
    "cc = level(vv,\"SD\")                                                        \n",
    "g_vv = evaluate_deltas(wicks(Lf1*cc*Rf2 , keep_only_fully_contracted=True))      \n",
    "index_rule = {'below':  'ijklm','above':  'cdefg'}                             \n",
    "g_vv = substitute_dummies(g_vv,new_indices=True, pretty_indices=index_rule)    \n",
    "gamma = Symbol('\\gamma_a^{L}')\n",
    "final_eq = Eq(gamma, g_vv)\n",
    "display(final_eq)\n"
   ]
  },
  {
   "cell_type": "code",
   "execution_count": null,
   "metadata": {},
   "outputs": [],
   "source": []
  }
 ],
 "metadata": {
  "kernelspec": {
   "display_name": "Python 3",
   "language": "python",
   "name": "python3"
  },
  "language_info": {
   "codemirror_mode": {
    "name": "ipython",
    "version": 3
   },
   "file_extension": ".py",
   "mimetype": "text/x-python",
   "name": "python",
   "nbconvert_exporter": "python",
   "pygments_lexer": "ipython3",
   "version": "3.7.4"
  }
 },
 "nbformat": 4,
 "nbformat_minor": 2
}
