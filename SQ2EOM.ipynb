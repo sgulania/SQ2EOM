{
 "cells": [
  {
   "cell_type": "markdown",
   "metadata": {},
   "source": [
    "## From Second Quantization to Equation-of-Motion Coupled-Cluster using sympy\n",
    "\n",
    "### Table of contents \n",
    "1. [Introduction](#Introduction)\n",
    "2. [Second Quantization](#Second-Quantization)\n",
    "3. [Wicks theorem](#Wicks-theorem)\n",
    "4. [One body operator](#One-body-operator)\n",
    "5. [Two body operator](#Two-body-operator)\n",
    "6. [Baker-Campbell-Hauersdorf](#Baker-Campbell-Hauersdorf)\n",
    "7. [Hartree-Fock](#Hartree-Fock)\n",
    "8. [Coupled-Cluster](#Coupled-Cluster)\n",
    "9. [Equation-of-motion Coupled-Cluster](#Equation-of-motion-Coupled-Cluster)"
   ]
  },
  {
   "cell_type": "markdown",
   "metadata": {},
   "source": [
    "### Introduction\n",
    "We will have hands on tutorial for the derivation of EOM-CCSD amplitudes with one and two particle density matrix. EOM-CCSD symbolic library uses [sympy](https://www.sympy.org/en/index.html) and can easily extend this to any operator."
   ]
  },
  {
   "cell_type": "markdown",
   "metadata": {},
   "source": [
    "### Second Quantization"
   ]
  },
  {
   "cell_type": "markdown",
   "metadata": {},
   "source": [
    "### Baker-Campbell-Hauersdorf\n",
    "Define the expansion and importance in molecular Hamiltonian"
   ]
  },
  {
   "cell_type": "markdown",
   "metadata": {},
   "source": [
    "### Equation-of-motion Coupled-Cluster\n",
    "Defining opeartors for all flavor of EOM "
   ]
  },
  {
   "cell_type": "code",
   "execution_count": 1,
   "metadata": {},
   "outputs": [
    {
     "data": {
      "text/markdown": [
       " Computing Dyson OPTDM between IP $\\rightarrow$ CCSD (skipping summation for dummy variables)"
      ],
      "text/plain": [
       "<IPython.core.display.Markdown object>"
      ]
     },
     "metadata": {},
     "output_type": "display_data"
    },
    {
     "data": {
      "text/latex": [
       "$\\displaystyle \\gamma_i^{R} = - L^{j}_{b} R^{}_{j} T^{b}_{i} + L^{j}_{b} R^{b}_{ij} - \\frac{L^{jk}_{bc} R^{}_{j} T^{bc}_{ik}}{2} + \\frac{L^{jk}_{bc} R^{b}_{jk} T^{c}_{i}}{2} + R^{}_{i}$"
      ],
      "text/plain": [
       "Eq(\\gamma_i^{R}, -AntiSymmetricTensor(L, (_j,), (_b,))*AntiSymmetricTensor(R, (), (_j,))*AntiSymmetricTensor(T, (_b,), (i,)) + AntiSymmetricTensor(L, (_j,), (_b,))*AntiSymmetricTensor(R, (_b,), (i, _j)) - AntiSymmetricTensor(L, (_j, _k), (_b, _c))*AntiSymmetricTensor(R, (), (_j,))*AntiSymmetricTensor(T, (_b, _c), (i, _k))/2 + AntiSymmetricTensor(L, (_j, _k), (_b, _c))*AntiSymmetricTensor(R, (_b,), (_j, _k))*AntiSymmetricTensor(T, (_c,), (i,))/2 + AntiSymmetricTensor(R, (), (i,)))"
      ]
     },
     "metadata": {},
     "output_type": "display_data"
    },
    {
     "data": {
      "text/latex": [
       "$\\displaystyle \\gamma_a^{R} = L^{j}_{a} R^{}_{j} + \\frac{L^{jk}_{ab} R^{b}_{jk}}{2}$"
      ],
      "text/plain": [
       "Eq(\\gamma_a^{R}, AntiSymmetricTensor(L, (_j,), (a,))*AntiSymmetricTensor(R, (), (_j,)) + AntiSymmetricTensor(L, (_j, _k), (a, _b))*AntiSymmetricTensor(R, (_b,), (_j, _k))/2)"
      ]
     },
     "metadata": {},
     "output_type": "display_data"
    },
    {
     "data": {
      "text/latex": [
       "$\\displaystyle \\gamma_i^{L} = L^{i}_{}$"
      ],
      "text/plain": [
       "Eq(\\gamma_i^{L}, AntiSymmetricTensor(L, (i,), ()))"
      ]
     },
     "metadata": {},
     "output_type": "display_data"
    },
    {
     "data": {
      "text/latex": [
       "$\\displaystyle \\gamma_a^{L} = L^{i}_{} T^{a}_{i} + \\frac{L^{ij}_{c} T^{ac}_{ij}}{2}$"
      ],
      "text/plain": [
       "Eq(\\gamma_a^{L}, AntiSymmetricTensor(L, (_i,), ())*AntiSymmetricTensor(T, (a,), (_i,)) + AntiSymmetricTensor(L, (_i, _j), (_c,))*AntiSymmetricTensor(T, (a, _c), (_i, _j))/2)"
      ]
     },
     "metadata": {},
     "output_type": "display_data"
    }
   ],
   "source": [
    "import EOM\n",
    "import DYSON\n",
    "\n",
    "flavor1 = \"IP\"                                                                 \n",
    "R0_f1 = EOM.R0(flavor1)                                                    \n",
    "R1_f1 = EOM.R1(flavor1)                                                    \n",
    "R2_f1 = EOM.R2(flavor1)                                                    \n",
    "Rf1  = R0_f1 + R1_f1 + R2_f1                                                 \n",
    "                                                                                \n",
    "L0_f1 = EOM.L0(flavor1)                                                    \n",
    "L1_f1 = EOM.L1(flavor1)                                                    \n",
    "L2_f1 = EOM.L2(flavor1)                                                    \n",
    "Lf1  = L0_f1 + L1_f1 + L2_f1                                                                                                      \n",
    "                                                                                \n",
    "flavor2 = \"CCSD\"                                                                \n",
    "R0_f2 = EOM.R0(flavor2)                                                    \n",
    "R1_f2 = EOM.R1(flavor2)                                                    \n",
    "R2_f2 = EOM.R2(flavor2)                                                    \n",
    "Rf2  = R0_f2 + R1_f2 + R1_f2                                                   \n",
    "                                                                                \n",
    "L0_f2 = EOM.L0(flavor2)                                                    \n",
    "L1_f2 = EOM.L1(flavor2)                                                    \n",
    "L2_f2 = EOM.L2(flavor2)                                                    \n",
    "Lf2  = L0_f2 + L1_f2 + L2_f2                                                \n",
    "\n",
    "DYSON.OPTDM(Lf1,Rf1,Lf2,Rf2,flavor1,flavor2)"
   ]
  },
  {
   "cell_type": "code",
   "execution_count": null,
   "metadata": {},
   "outputs": [],
   "source": [
    "\n"
   ]
  }
 ],
 "metadata": {
  "kernelspec": {
   "display_name": "Python 3",
   "language": "python",
   "name": "python3"
  },
  "language_info": {
   "codemirror_mode": {
    "name": "ipython",
    "version": 3
   },
   "file_extension": ".py",
   "mimetype": "text/x-python",
   "name": "python",
   "nbconvert_exporter": "python",
   "pygments_lexer": "ipython3",
   "version": "3.7.4"
  }
 },
 "nbformat": 4,
 "nbformat_minor": 2
}
