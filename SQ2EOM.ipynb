{
 "cells": [
  {
   "cell_type": "markdown",
   "metadata": {
    "slideshow": {
     "slide_type": "slide"
    }
   },
   "source": [
    "# From Second Quantization to Equation-of-Motion Coupled-Cluster using SymPy\n",
    "\n",
    "## Table of contents \n",
    "1. [Introduction](#Introduction)\n",
    "2. [Second Quantization](#Second-Quantization)\n",
    "3. [Normal product](#Normal-product)\n",
    "4. [Contraction](#Contraction)\n",
    "5. [Wicks theorem](#Wicks-theorem)\n",
    "6. [Particle-Hole formalism](#Particle-Hole-formalism)\n",
    "6. [Baker-Campbell-Hauersdorf](#Baker-Campbell-Hauersdorf)\n",
    "7. [Hartree-Fock](#Hartree-Fock)\n",
    "8. [Coupled-Cluster](#Coupled-Cluster)\n",
    "9. [Equation-of-motion Coupled-Cluster](#Equation-of-motion-Coupled-Cluster)"
   ]
  },
  {
   "cell_type": "markdown",
   "metadata": {
    "slideshow": {
     "slide_type": "slide"
    }
   },
   "source": [
    "### Introduction\n",
    "We will have hands on tutorial for the derivation of EOM-CCSD amplitudes, one and two particle density matrix. I have developed a symbolic library using [SymPy](https://www.sympy.org/en/index.html) for deriving analytical expressions which can be easily extended to any operator. \n",
    "\n",
    "First, we will derive the fermionic algebra from first quantization and study their properties. \n",
    "$\\newcommand{\\ket}[1]{\\left|{#1}\\right\\rangle}\n",
    "\\newcommand{\\bra}[1]{\\left\\langle{#1}\\right|}\n",
    "\\newcommand{\\braket}[2]{\\left\\langle{#1}\\middle|{#2}\\right\\rangle}$\n"
   ]
  },
  {
   "cell_type": "markdown",
   "metadata": {
    "slideshow": {
     "slide_type": "slide"
    }
   },
   "source": [
    "### Second Quantization\n",
    "\n",
    "In this section we will derive the fermionic algebra in second quantization representation from first quantization. Once the fermionic algebra is established, we will derive the relation between the its elements\n",
    "\n",
    "$$ \\ket{k} = {a^{+}_{k}}\\ket{vac} $$\n",
    "\n",
    "The opertor $a^{+}_{k}$ has created an electron on the vaccum state. \n",
    "$$\\phi_{k}(1) \\longleftrightarrow {a^{+}_{k}}\\ket{vac} $$\n",
    "$\\ket{vac}$ is an abstract vaccum state and $\\braket{vac}{vac} = 1$\n",
    "If there are two electrons the wavefunction in first quantization is \n",
    "$$ \\Phi(1,2) = \\frac{1}{\\sqrt{2}} \n",
    "\\begin{vmatrix}\n",
    "\\phi_{i}(1) & \\phi_{k}(1) \\\\\n",
    "\\phi_{i}(2) & \\phi_{k}(2) \n",
    "\\end{vmatrix} $$\n",
    "\n",
    "The same in second quantization follows as (keeping normalization included) \n",
    "$$\\ket{ik} = {a^{+}_{i}a^{+}_{k}}\\ket{vac} $$\n"
   ]
  },
  {
   "cell_type": "markdown",
   "metadata": {
    "slideshow": {
     "slide_type": "subslide"
    }
   },
   "source": [
    "As $ \\Phi(1,2)$ is an antisymmetric function therefore the creation operator in second quantization should respect this antisymmetry. \n",
    "\n",
    "$$\\Phi(2,1) = - \\Phi(1,2)  \\longleftrightarrow {a^{+}_{k}a^{+}_{i}}\\ket{vac} = - {a^{+}_{i}a^{+}_{k}}\\ket{vac} $$\n",
    "\n",
    "One can see that the antisymmetry requirement is fulfilled by having the anticommutation relation between creation operators.\n",
    "\n",
    "$$a^{+}_{k}a^{+}_{i} + a^{+}_{i}a^{+}_{k} = \\{a^{+}_{k} , a^{+}_{i} \\} = 0 \\tag{QED 1} $$"
   ]
  },
  {
   "cell_type": "markdown",
   "metadata": {
    "slideshow": {
     "slide_type": "slide"
    }
   },
   "source": [
    "Now we will repeat the same excercice for anhilation operators. Consider first one-electron system by creating an electron on $i$th orbital using $a_{i}^{+} $. We can define the anhilator operator $a_{i}$, which act on the former state and returns back the system to $\\ket{vac}$. \n",
    "\n",
    "$$a_{i} a_{i}^{+} \\ket{vac} = \\ket{vac}$$ \n",
    "\n",
    "When there is no electron in a orbital $i$, then it should result to zero. \n",
    "$$a_{i} \\ket{vac} = 0$$\n",
    "\n",
    "In order to establish the anticommutation of anhilation operators we will utilize anticommutation relation of creation operators.\n",
    "\n",
    "$$ a_{i} a_{k} \\ket{ki} = \\ket{vac} \\ \\ \\  \\& \\ \\ \\  a_{k} a_{i} \\ket{ik} = \\ket{vac} = -a_{k} a_{i} \\ket{ki}$$\n",
    "\n",
    "Therefore, \n",
    "$$ a_{i}a_{k} + a_{k}a_{i}  = \\{a_{k}, a_{i}\\} = 0 \\tag{QED 2}$$\n"
   ]
  },
  {
   "cell_type": "markdown",
   "metadata": {
    "slideshow": {
     "slide_type": "slide"
    }
   },
   "source": [
    "Now we already have two anticommutation relation and will try to derive the third, between creation and anhilation operators. Consider two orbitals $i \\ \\& \\ k$, where $i\\neq k$\n",
    "\n",
    "$$a_{i}a_{k}^{+}\\ket{i} = a_{i}\\ket{ki} = - a_{i}\\ket{ik} = - \\ket{k}$$\n",
    "\n",
    "Reversing the action, \n",
    "\n",
    "$$a_{k}^{+} a_{i}\\ket{i} = \\ket{k}$$\n",
    "\n",
    "Comparing both \n",
    "\n",
    "$$a_{k}^{+} a_{i} + a_{i}a_{k}^{+} = \\{ a_{i}, a_{k}^{+} \\} = 0 $$\n",
    "\n",
    "But when $i = k$, then \n",
    "\n",
    "$$a_{i}^{+} a_{i} + a_{i}a_{i}^{+} = \\{ a_{i}, a_{i}^{+} \\} = 1 $$\n",
    "\n",
    "Therefore the final expression which captures both sitation is \n",
    "\n",
    "$$a_{i}^{+} a_{k} + a_{k}a_{i}^{+} = \\{ a_{i}^{+}, a_{k} \\} = \\delta_{ik} \\tag{QED 3}$$ "
   ]
  },
  {
   "cell_type": "markdown",
   "metadata": {
    "slideshow": {
     "slide_type": "slide"
    }
   },
   "source": [
    "Last, we need to establish the adjoint relation between anhilation and creation operator. Consider \n",
    "\n",
    "$$\\bra{vac}a_{i}a_{k}^{+}\\ket{vac} = \\delta_{ik}$$\n",
    "\n",
    "From first quantization \n",
    "\n",
    "$$\\braket {\\phi_{i}}{\\phi_{k}} = \\delta_{ik}$$\n",
    "\n",
    "Using second quantization on right hand side where $\\dagger$ indicates hermitian conjugate\n",
    " \n",
    "$$\\bra{vac}(a_{i}^{+})^{\\dagger} a_{k}^{\\dagger}\\ket{vac} = \\delta_{ik}$$\n",
    "\n",
    "It is only true if \n",
    "\n",
    "$$(a_{i}^{+})^{\\dagger} = a_{i}  \\tag{QED 4}$$\n",
    "\n",
    "Hence, $a_{i}^{+} = a_{i}^{\\dagger}$ which means creation operator for $i$th orbital is hermitian conjugate of\n",
    "anhilation operator for the same orbital. From now on for creation operator we will use  $\\dagger$ as superscript instead of $+$\n",
    "\n"
   ]
  },
  {
   "cell_type": "markdown",
   "metadata": {
    "slideshow": {
     "slide_type": "skip"
    }
   },
   "source": [
    "### Particle number operator\n",
    "\n",
    "We succesfully showed the transformation of basis from first quantization to second quantization by creating fermionic algebra. Now we will do the same for operators. Lets look at number operator for $N$ fermions in $N$ orthogonal basis. The wavefuntion can be written as \n",
    "$$\\ket{\\Psi_{N}} =  a^{\\dagger}_{N}a^{\\dagger}_{N-1} ... a^{\\dagger}_{2} a^{\\dagger}_{1}\\ket{vac}$$\n",
    "Define number operator for $k$th orbital \n",
    "$$a^{\\dagger}_{k}a_{k}  $$\n",
    "Act this opeartor on $\\ket{\\Psi_{N}}$\n",
    "$$a^{\\dagger}_{k}a_{k} \\ket{\\Psi_{N}} = a^{\\dagger}_{k}a_{k} (a^{\\dagger}_{N}a^{\\dagger}_{N-1} ... a^{\\dagger}_{k} ...  a^{\\dagger}_{2} a^{\\dagger}_{1}\\ket{vac})$$\n",
    "\n",
    "Using eq.(1) and eq.(3), both $a^{\\dagger}_{k}a_{k}$ can move next to $a^{\\dagger}_{k}$ inside $\\Psi_{N}$\n",
    "\n",
    "$$a^{\\dagger}_{k}a_{k} \\ket{\\Psi_{N}} = a^{\\dagger}_{N}a^{\\dagger}_{N-1} ...a^{\\dagger}_{k}a_{k}a^{\\dagger}_{k} ...  a^{\\dagger}_{2} a^{\\dagger}_{1}\\ket{vac}  = a^{\\dagger}_{N}a^{\\dagger}_{N-1} ...a^{\\dagger}_{k}...  a^{\\dagger}_{2} a^{\\dagger}_{1}\\ket{vac} = +1\\ket{\\Psi_{N}}$$\n",
    "\n",
    "\n",
    "#### Particle number operator for $N$ particles\n",
    "\n",
    "$$\\sum_{i=1}^{N} a^{\\dagger}_{i}a_{i} \\ket{\\Psi_{N}} = N \\ket{\\Psi_{N}} $$"
   ]
  },
  {
   "cell_type": "markdown",
   "metadata": {
    "slideshow": {
     "slide_type": "slide"
    }
   },
   "source": [
    "### Parity of permutation\n",
    "\n",
    "$$p q r s \\xrightarrow[]{(12)(34)} q p s r$$ \n",
    "\n",
    "The total number of transposition required to decompose any permutation $P$ is known as its parity, $\\mathcal{p}$\n",
    "\n",
    "If the total number is even then its called even parity\n",
    "\n",
    "If the total number is odd then its called odd parity\n",
    "\n",
    "Sign of permutation $P$ is defined as \n",
    "\n",
    "$$sgn(P) =  -1^{p}$$\n",
    "\n",
    "Hence,\n",
    "\n",
    "$$sgn(P_{odd}) =  -1 \\hspace{2cm} sgn(P_{even}) =  1$$"
   ]
  },
  {
   "cell_type": "markdown",
   "metadata": {
    "slideshow": {
     "slide_type": "slide"
    }
   },
   "source": [
    "### Normal product \n",
    "Given the product of operators, the normal product is defined as rearrangment of operators such that all the creation operator are moved to left and all the anhilation operator to right, then multiply it by sign of permutation.\n",
    "\n",
    "Example: Consiper $Q = a_{p}^{\\dagger}a_{q}a_{r}^{\\dagger}$\n",
    "\n",
    "Now, the in order to write normal product of $Q$, one has to permute $a_{q}a_{r}^{\\dagger}$ and multiply thw whole by -1 ( $\\because$ odd parity permutation).\n",
    "\n",
    "$$n[a_{p}^{\\dagger}a_{q}a_{r}^{\\dagger}] = -a_{p}^{\\dagger}a_{r}^{\\dagger}a_{q} $$\n",
    "Excercise: $Q =  a_{s}a_{p}^{\\dagger}a_{r}a_{q}^{\\dagger}$\n",
    "\n",
    "1) $n[Q]$ \n",
    "\n",
    "2) $n[n[Q]]$ (nomal product is idempotent operator)\n"
   ]
  },
  {
   "cell_type": "markdown",
   "metadata": {
    "slideshow": {
     "slide_type": "subslide"
    }
   },
   "source": [
    "Solution: $Q =  a_{s}a_{p}^{\\dagger}a_{r}a_{q}^{\\dagger}$\n",
    "\n",
    "1) $n[Q] = - a_{q}^{\\dagger}a_{p}^{\\dagger}a_{r}a_{s} = a_{p}^{\\dagger}a_{q}^{\\dagger}a_{r}a_{s} $ \n",
    "\n",
    "\n",
    "2) $n[n[Q]] = n[Q]$ \n",
    "\n",
    "Now, we will compute normal product using SymPy "
   ]
  },
  {
   "cell_type": "code",
   "execution_count": 1,
   "metadata": {
    "slideshow": {
     "slide_type": "subslide"
    }
   },
   "outputs": [
    {
     "data": {
      "text/latex": [
       "$\\displaystyle a_{s} a^\\dagger_{p} a_{r} a^\\dagger_{q}$"
      ],
      "text/plain": [
       "AnnihilateFermion(s)*CreateFermion(p)*AnnihilateFermion(r)*CreateFermion(q)"
      ]
     },
     "metadata": {},
     "output_type": "display_data"
    },
    {
     "data": {
      "text/latex": [
       "$\\displaystyle \\left\\{a^\\dagger_{p} a^\\dagger_{q} a_{r} a_{s}\\right\\}$"
      ],
      "text/plain": [
       "NO(CreateFermion(p)*CreateFermion(q)*AnnihilateFermion(r)*AnnihilateFermion(s))"
      ]
     },
     "metadata": {},
     "output_type": "display_data"
    },
    {
     "data": {
      "text/latex": [
       "$\\displaystyle \\left\\{a^\\dagger_{p} a^\\dagger_{q} a_{r} a_{s}\\right\\}$"
      ],
      "text/plain": [
       "NO(CreateFermion(p)*CreateFermion(q)*AnnihilateFermion(r)*AnnihilateFermion(s))"
      ]
     },
     "metadata": {},
     "output_type": "display_data"
    }
   ],
   "source": [
    "from sympy.physics.secondquant import AnnihilateFermion, CreateFermion, NO\n",
    "from sympy import symbols, Eq\n",
    "\n",
    "p,q,r,s = symbols('p,q,r,s')\n",
    "\n",
    "Q = AnnihilateFermion(s)*CreateFermion(p)*AnnihilateFermion(r)*CreateFermion(q)\n",
    "\n",
    "display(Q)\n",
    "\n",
    "n = NO(Q)\n",
    "nn = NO(n)\n",
    "\n",
    "display(n,nn)\n"
   ]
  },
  {
   "cell_type": "markdown",
   "metadata": {
    "slideshow": {
     "slide_type": "slide"
    }
   },
   "source": [
    "### Contraction \n",
    "Contraction between two operators is defined as itself minus its normal product. Symbolically \n",
    "\n",
    "<img src=\"figures/con1.jpg\" width=30% height: auto>\n",
    "\n",
    "Example: Compute contraction of $Q = a_{p}a_{q}$\n",
    "\n",
    "<img src=\"figures/ex_con1.jpg\"  width=30% height: auto>\n",
    "\n",
    "Excercise: Compute contraction of the following \n",
    "\n",
    "1) $a_{p}a_{q}^{\\dagger}$\n",
    "\n",
    "2) $a_{p}^{\\dagger}a_{q}$\n",
    "\n",
    "3) $a_{p}^{\\dagger}a_{q}^{\\dagger}$"
   ]
  },
  {
   "cell_type": "markdown",
   "metadata": {
    "slideshow": {
     "slide_type": "subslide"
    }
   },
   "source": [
    "Solution:\n",
    "\n",
    "<img src=\"figures/sol_con1.jpg\" width=100% height: auto>\n",
    "\n",
    "\n",
    "Now, we will compute normal product using SymPy "
   ]
  },
  {
   "cell_type": "code",
   "execution_count": 15,
   "metadata": {
    "slideshow": {
     "slide_type": "subslide"
    }
   },
   "outputs": [
    {
     "data": {
      "text/plain": [
       "0"
      ]
     },
     "metadata": {},
     "output_type": "display_data"
    },
    {
     "data": {
      "text/latex": [
       "$\\displaystyle \\delta_{p q}$"
      ],
      "text/plain": [
       "KroneckerDelta(p, q)"
      ]
     },
     "metadata": {},
     "output_type": "display_data"
    },
    {
     "data": {
      "text/plain": [
       "0"
      ]
     },
     "metadata": {},
     "output_type": "display_data"
    },
    {
     "data": {
      "text/plain": [
       "0"
      ]
     },
     "metadata": {},
     "output_type": "display_data"
    }
   ],
   "source": [
    "from secondquant_gen import contraction, F, Fd # F = AnnihilateFermion, Fd = CreateFermion\n",
    "from sympy import symbols\n",
    "\n",
    "\n",
    "p,q = symbols('p q')\n",
    "\n",
    "C1 = contraction(F(p),F(q))\n",
    "C2 = contraction(F(p),Fd(q))\n",
    "C3 = contraction(Fd(p),F(q))\n",
    "C4 = contraction(Fd(p),Fd(q))\n",
    "\n",
    "display(C1,C2,C3,C4)"
   ]
  },
  {
   "cell_type": "markdown",
   "metadata": {
    "slideshow": {
     "slide_type": "slide"
    }
   },
   "source": [
    "### Normal products with Contractions\n",
    "Given normal product of operators with contraction of operators inside the normal product. \n",
    "\n",
    "Then take all the contractions out in pairs and same order, leave uncontracted operators inside normal product and multiply sign of permutation. \n",
    "\n",
    "Example: \n",
    "<img src=\"figures/NPC_ex1.jpg\" width=100% height: auto>\n"
   ]
  },
  {
   "cell_type": "markdown",
   "metadata": {
    "slideshow": {
     "slide_type": "subslide"
    }
   },
   "source": [
    "Example: \n",
    "<img src=\"figures/NPC_ex2.jpg\" width=100% height: auto>"
   ]
  },
  {
   "cell_type": "markdown",
   "metadata": {
    "slideshow": {
     "slide_type": "slide"
    }
   },
   "source": [
    "### Wicks Theorem \n",
    "Given a product of operators then it can be rewritten as normal product of the same plus normal product with all possible contractions inside. \n"
   ]
  },
  {
   "cell_type": "markdown",
   "metadata": {
    "slideshow": {
     "slide_type": "subslide"
    }
   },
   "source": [
    "Example: \n",
    "\n",
    "<img src=\"figures/wick1.jpg\" width=100% height: auto>\n",
    "\n",
    "Now, we will show use of wicks theorem using SymPy "
   ]
  },
  {
   "cell_type": "code",
   "execution_count": 3,
   "metadata": {
    "slideshow": {
     "slide_type": "slide"
    }
   },
   "outputs": [
    {
     "data": {
      "text/latex": [
       "$\\displaystyle \\delta_{p q} a^\\dagger_{r} - \\delta_{p r} a^\\dagger_{q} + \\left\\{a^\\dagger_{q} a^\\dagger_{r} a_{p}\\right\\}$"
      ],
      "text/plain": [
       "KroneckerDelta(p, q)*CreateFermion(r) - KroneckerDelta(p, r)*CreateFermion(q) + NO(CreateFermion(q)*CreateFermion(r)*AnnihilateFermion(p))"
      ]
     },
     "metadata": {},
     "output_type": "display_data"
    }
   ],
   "source": [
    "from secondquant_gen import wicks, F, Fd\n",
    "from sympy import symbols, Dummy\n",
    "\n",
    "\n",
    "p,q,r,s,t,u = symbols('p q r s t u')\n",
    "\n",
    "E1 = wicks(F(p)*Fd(q)*Fd(r))\n",
    "display(E1)"
   ]
  },
  {
   "cell_type": "code",
   "execution_count": 4,
   "metadata": {
    "scrolled": true
   },
   "outputs": [
    {
     "data": {
      "text/latex": [
       "$\\displaystyle \\delta_{p r} \\delta_{q t} \\delta_{s u} - \\delta_{p r} \\delta_{q t} \\left\\{a^\\dagger_{u} a_{s}\\right\\} - \\delta_{p r} \\delta_{q u} \\delta_{s t} + \\delta_{p r} \\delta_{q u} \\left\\{a^\\dagger_{t} a_{s}\\right\\} + \\delta_{p r} \\delta_{s t} \\left\\{a^\\dagger_{u} a_{q}\\right\\} - \\delta_{p r} \\delta_{s u} \\left\\{a^\\dagger_{t} a_{q}\\right\\} - \\delta_{p r} \\left\\{a^\\dagger_{t} a^\\dagger_{u} a_{q} a_{s}\\right\\} - \\delta_{p t} \\delta_{q r} \\delta_{s u} + \\delta_{p t} \\delta_{q r} \\left\\{a^\\dagger_{u} a_{s}\\right\\} - \\delta_{p t} \\delta_{q u} \\left\\{a^\\dagger_{r} a_{s}\\right\\} + \\delta_{p t} \\delta_{s u} \\left\\{a^\\dagger_{r} a_{q}\\right\\} + \\delta_{p t} \\left\\{a^\\dagger_{r} a^\\dagger_{u} a_{q} a_{s}\\right\\} + \\delta_{p u} \\delta_{q r} \\delta_{s t} - \\delta_{p u} \\delta_{q r} \\left\\{a^\\dagger_{t} a_{s}\\right\\} + \\delta_{p u} \\delta_{q t} \\left\\{a^\\dagger_{r} a_{s}\\right\\} - \\delta_{p u} \\delta_{s t} \\left\\{a^\\dagger_{r} a_{q}\\right\\} - \\delta_{p u} \\left\\{a^\\dagger_{r} a^\\dagger_{t} a_{q} a_{s}\\right\\} - \\delta_{q r} \\delta_{s t} \\left\\{a^\\dagger_{u} a_{p}\\right\\} + \\delta_{q r} \\delta_{s u} \\left\\{a^\\dagger_{t} a_{p}\\right\\} + \\delta_{q r} \\left\\{a^\\dagger_{t} a^\\dagger_{u} a_{p} a_{s}\\right\\} - \\delta_{q t} \\delta_{s u} \\left\\{a^\\dagger_{r} a_{p}\\right\\} - \\delta_{q t} \\left\\{a^\\dagger_{r} a^\\dagger_{u} a_{p} a_{s}\\right\\} + \\delta_{q u} \\delta_{s t} \\left\\{a^\\dagger_{r} a_{p}\\right\\} + \\delta_{q u} \\left\\{a^\\dagger_{r} a^\\dagger_{t} a_{p} a_{s}\\right\\} + \\delta_{s t} \\left\\{a^\\dagger_{r} a^\\dagger_{u} a_{p} a_{q}\\right\\} - \\delta_{s u} \\left\\{a^\\dagger_{r} a^\\dagger_{t} a_{p} a_{q}\\right\\} + \\left\\{a^\\dagger_{r} a^\\dagger_{t} a^\\dagger_{u} a_{p} a_{q} a_{s}\\right\\}$"
      ],
      "text/plain": [
       "KroneckerDelta(p, r)*KroneckerDelta(q, t)*KroneckerDelta(s, u) - KroneckerDelta(p, r)*KroneckerDelta(q, t)*NO(CreateFermion(u)*AnnihilateFermion(s)) - KroneckerDelta(p, r)*KroneckerDelta(q, u)*KroneckerDelta(s, t) + KroneckerDelta(p, r)*KroneckerDelta(q, u)*NO(CreateFermion(t)*AnnihilateFermion(s)) + KroneckerDelta(p, r)*KroneckerDelta(s, t)*NO(CreateFermion(u)*AnnihilateFermion(q)) - KroneckerDelta(p, r)*KroneckerDelta(s, u)*NO(CreateFermion(t)*AnnihilateFermion(q)) - KroneckerDelta(p, r)*NO(CreateFermion(t)*CreateFermion(u)*AnnihilateFermion(q)*AnnihilateFermion(s)) - KroneckerDelta(p, t)*KroneckerDelta(q, r)*KroneckerDelta(s, u) + KroneckerDelta(p, t)*KroneckerDelta(q, r)*NO(CreateFermion(u)*AnnihilateFermion(s)) - KroneckerDelta(p, t)*KroneckerDelta(q, u)*NO(CreateFermion(r)*AnnihilateFermion(s)) + KroneckerDelta(p, t)*KroneckerDelta(s, u)*NO(CreateFermion(r)*AnnihilateFermion(q)) + KroneckerDelta(p, t)*NO(CreateFermion(r)*CreateFermion(u)*AnnihilateFermion(q)*AnnihilateFermion(s)) + KroneckerDelta(p, u)*KroneckerDelta(q, r)*KroneckerDelta(s, t) - KroneckerDelta(p, u)*KroneckerDelta(q, r)*NO(CreateFermion(t)*AnnihilateFermion(s)) + KroneckerDelta(p, u)*KroneckerDelta(q, t)*NO(CreateFermion(r)*AnnihilateFermion(s)) - KroneckerDelta(p, u)*KroneckerDelta(s, t)*NO(CreateFermion(r)*AnnihilateFermion(q)) - KroneckerDelta(p, u)*NO(CreateFermion(r)*CreateFermion(t)*AnnihilateFermion(q)*AnnihilateFermion(s)) - KroneckerDelta(q, r)*KroneckerDelta(s, t)*NO(CreateFermion(u)*AnnihilateFermion(p)) + KroneckerDelta(q, r)*KroneckerDelta(s, u)*NO(CreateFermion(t)*AnnihilateFermion(p)) + KroneckerDelta(q, r)*NO(CreateFermion(t)*CreateFermion(u)*AnnihilateFermion(p)*AnnihilateFermion(s)) - KroneckerDelta(q, t)*KroneckerDelta(s, u)*NO(CreateFermion(r)*AnnihilateFermion(p)) - KroneckerDelta(q, t)*NO(CreateFermion(r)*CreateFermion(u)*AnnihilateFermion(p)*AnnihilateFermion(s)) + KroneckerDelta(q, u)*KroneckerDelta(s, t)*NO(CreateFermion(r)*AnnihilateFermion(p)) + KroneckerDelta(q, u)*NO(CreateFermion(r)*CreateFermion(t)*AnnihilateFermion(p)*AnnihilateFermion(s)) + KroneckerDelta(s, t)*NO(CreateFermion(r)*CreateFermion(u)*AnnihilateFermion(p)*AnnihilateFermion(q)) - KroneckerDelta(s, u)*NO(CreateFermion(r)*CreateFermion(t)*AnnihilateFermion(p)*AnnihilateFermion(q)) + NO(CreateFermion(r)*CreateFermion(t)*CreateFermion(u)*AnnihilateFermion(p)*AnnihilateFermion(q)*AnnihilateFermion(s))"
      ]
     },
     "metadata": {},
     "output_type": "display_data"
    }
   ],
   "source": [
    "E2 = wicks(F(p)*F(q)*Fd(r)*F(s)*Fd(t)*Fd(u))\n",
    "display(E2)"
   ]
  },
  {
   "cell_type": "markdown",
   "metadata": {
    "slideshow": {
     "slide_type": "slide"
    }
   },
   "source": [
    "### Expectation value with $\\ket{vac}$\n",
    "\n",
    "Let $Q = M_{1}M_{2}M_{3} ... M_{n-1}M_{n}$ product of $n$ operators \n",
    "\n",
    "<img src=\"figures/prop_wick1.jpg\" width=100% height: auto>\n",
    "\n",
    "From this one can easily see the importance of Wick's theorem. Lets do some checks using SymPy\n"
   ]
  },
  {
   "cell_type": "markdown",
   "metadata": {
    "slideshow": {
     "slide_type": "slide"
    }
   },
   "source": [
    "Exercise:\n",
    "\n",
    "$Q = a_{p}a_{q}^{\\dagger}a_{r}^{\\dagger}$\n",
    "\n",
    "$Q = a_{p}a_{q}a_{r}^{\\dagger}a_{s}a_{t}^{\\dagger}a_{u}^{\\dagger}$\n",
    "\n",
    "Compute $\\bra{vac}Q\\ket{vac}$?\n",
    "\n",
    "Solution:\n",
    "\n",
    "1. Conver $Q$ to normal order using wicks theorem.\n",
    "2. Only terms which are fully contracted will result in non-zero"
   ]
  },
  {
   "cell_type": "code",
   "execution_count": 5,
   "metadata": {
    "slideshow": {
     "slide_type": "slide"
    }
   },
   "outputs": [
    {
     "data": {
      "text/latex": [
       "$\\displaystyle 0$"
      ],
      "text/plain": [
       "0"
      ]
     },
     "metadata": {},
     "output_type": "display_data"
    }
   ],
   "source": [
    "from secondquant_gen import wicks, F, Fd\n",
    "from sympy import symbols, Dummy\n",
    "\n",
    "\n",
    "p,q,r,s,t,u = symbols('p q r s t u')\n",
    "\n",
    "E1 = wicks(F(p)*Fd(q)*Fd(r),keep_only_fully_contracted=True)\n",
    "display(E1)"
   ]
  },
  {
   "cell_type": "code",
   "execution_count": 6,
   "metadata": {
    "slideshow": {
     "slide_type": "fragment"
    }
   },
   "outputs": [
    {
     "data": {
      "text/latex": [
       "$\\displaystyle \\delta_{p r} \\delta_{q t} \\delta_{s u} - \\delta_{p r} \\delta_{q u} \\delta_{s t} - \\delta_{p t} \\delta_{q r} \\delta_{s u} + \\delta_{p u} \\delta_{q r} \\delta_{s t}$"
      ],
      "text/plain": [
       "KroneckerDelta(p, r)*KroneckerDelta(q, t)*KroneckerDelta(s, u) - KroneckerDelta(p, r)*KroneckerDelta(q, u)*KroneckerDelta(s, t) - KroneckerDelta(p, t)*KroneckerDelta(q, r)*KroneckerDelta(s, u) + KroneckerDelta(p, u)*KroneckerDelta(q, r)*KroneckerDelta(s, t)"
      ]
     },
     "metadata": {},
     "output_type": "display_data"
    }
   ],
   "source": [
    "E2 = wicks(F(p)*F(q)*Fd(r)*F(s)*Fd(t)*Fd(u),keep_only_fully_contracted=True)\n",
    "display(E2)"
   ]
  },
  {
   "cell_type": "markdown",
   "metadata": {
    "slideshow": {
     "slide_type": "slide"
    }
   },
   "source": [
    "### Particle Hole formalism \n",
    "\n",
    "This procedure makes the evaluation of certain matrix elements easier like \n",
    "\n",
    "$$\\bra{\\Phi_{0}}\\hat{H}\\ket{\\Phi_{0}}$$\n",
    "$$\\bra{\\Phi_{i}^{a}}\\hat{H}\\ket{\\Phi_{0}}$$\n",
    "$$\\bra{\\Phi_{ij}^{ab}}\\hat{H}\\ket{\\Phi_{0}}$$\n",
    "\n",
    "where, $\\Phi_{0}$ is Hartree-Fock determinant. Given a Hartree-Fock solution we get occupied and virtual orbitals. Lets assign symbols $(i,j,k,...)$ to occupied and $(a,b,c,...)$ to virtual."
   ]
  },
  {
   "cell_type": "markdown",
   "metadata": {
    "slideshow": {
     "slide_type": "slide"
    }
   },
   "source": [
    "We will define new set of operators \n",
    "$$ \n",
    "b_{p} =\n",
    "\\left\\{\n",
    "\t\\begin{array}{ll}\n",
    "\t\ta_{p}^{\\dagger}  & \\mbox{if } p = i \\\\\n",
    "\t\ta_{p}            & \\mbox{if } p = a\n",
    "\t\\end{array}\n",
    "\\right.\n",
    "$$\n",
    "\n",
    "$$ \n",
    "b_{p}^\\dagger =\n",
    "\\left\\{\n",
    "\t\\begin{array}{ll}\n",
    "\t\ta_{p}            & \\mbox{if } p = i \\\\\n",
    "\t\ta_{p}^{\\dagger}  & \\mbox{if } p = a\n",
    "\t\\end{array}\n",
    "\\right.\n",
    "$$\n",
    "\n",
    "This makes the HF determinant a Fermi vaccum\n",
    "\n",
    "$$ b_{p}\\ket{\\Phi_{0}} = 0$$\n",
    "\n",
    "This follows \n",
    "$$ \\{ b_{p},b_{q} \\} = 0 \\hspace{1cm} \\{ b_{p}^{\\dagger},b_{q}^{\\dagger} \\} = 0 \\hspace{1cm} \\{ b_{p},b_{q}^\\dagger \\}  = \\delta_{pq}  $$\n",
    "\n"
   ]
  },
  {
   "cell_type": "markdown",
   "metadata": {
    "slideshow": {
     "slide_type": "slide"
    }
   },
   "source": [
    "### Normal product of PHF\n",
    "It is defined similarly, as rearrangment of operators ($b_{p}$ \\& $b_{q}^{\\dagger}$) such that all the creation operator are moved to left and all the anhilation operator to right, then multiply it by sign of permutation.\n",
    "\n",
    "Example: Consiper $R = b_{p}^{\\dagger}b_{q}b_{r}^{\\dagger}$\n",
    "\n",
    "Now, the in order to write normal product of $R$, one has to permute $b_{q}b_{r}^{\\dagger}$ and multiply thw whole by -1 ( $\\because$ odd parity permutation).\n",
    "\n",
    "$$N[b_{p}^{\\dagger}b_{q}b_{r}^{\\dagger}] = -b_{p}^{\\dagger}b_{r}^{\\dagger}b_{q} $$\n",
    "\n",
    "The thing one has to focus is this definition shows different result that $n[ ]$.\n",
    "Lets do an excercise to explain this."
   ]
  },
  {
   "cell_type": "markdown",
   "metadata": {
    "slideshow": {
     "slide_type": "slide"
    }
   },
   "source": [
    "We are going to compute normal order of $a_{p}^{\\dagger}a_{q}a_{r}^{\\dagger}$ for $p=i,q=j,r=a$\n",
    "$$N[a_{i}^{\\dagger}a_{j}a_{a}^{\\dagger}] = N[b_{i}b_{j}^{\\dagger}b_{a}^{\\dagger}] = \n",
    "b_{j}^{\\dagger}b_{a}^{\\dagger}b_{i} = -b_{a}^{\\dagger}b_{j}^{\\dagger}b_{i}  =  -a_{a}^{\\dagger}a_{j}a_{i}^{\\dagger}  $$\n",
    "\n",
    "Also compute \n",
    "$$n[a_{i}^{\\dagger}a_{j}a_{a}^{\\dagger}] = -a_{i}^{\\dagger}a_{a}^{\\dagger}a_{j} = a_{a}^{\\dagger}a_{i}^{\\dagger}a_{j} = a_{a}^{\\dagger}\\delta_{ij} -  a_{a}^{\\dagger}a_{j}^{\\dagger}a_{i} $$\n"
   ]
  },
  {
   "cell_type": "code",
   "execution_count": 7,
   "metadata": {
    "slideshow": {
     "slide_type": "fragment"
    }
   },
   "outputs": [
    {
     "data": {
      "text/latex": [
       "$\\displaystyle - \\left\\{a^\\dagger_{a} a_{j} a^\\dagger_{i}\\right\\}$"
      ],
      "text/plain": [
       "-NO(CreateFermion(a)*AnnihilateFermion(j)*CreateFermion(i))"
      ]
     },
     "metadata": {},
     "output_type": "display_data"
    }
   ],
   "source": [
    "from sympy.physics.secondquant import NO, F, Fd # F = AnnihilateFermion, Fd = CreateFermion\n",
    "from sympy import symbols\n",
    "\n",
    "\n",
    "i,j = symbols('i j', below_fermi=True)\n",
    "a = symbols('a', above_fermi=True)\n",
    "\n",
    "display(NO(Fd(i)*F(j)*Fd(a)))"
   ]
  },
  {
   "cell_type": "markdown",
   "metadata": {
    "slideshow": {
     "slide_type": "slide"
    }
   },
   "source": [
    "### Contractions in PHF \n",
    "\n",
    "Same way they are defined but the operators are from PHF \n",
    "\n",
    "<img src=\"figures/con_phf.jpg\" width=30% height: auto>\n",
    "\n",
    "Similarlry the contraction inside normal product, Wicks theorem are defined.\n",
    "\n"
   ]
  },
  {
   "cell_type": "markdown",
   "metadata": {
    "slideshow": {
     "slide_type": "slide"
    }
   },
   "source": [
    "### Expectation value with $\\ket{\\Phi_{0}}$\n",
    "\n",
    "Let $R = M_{1}M_{2}M_{3} ... M_{n-1}M_{n}$ product of $n$ operators \n",
    "\n",
    "<img src=\"figures/phf_prop_wick1.jpg\" width=100% height: auto>\n",
    "\n",
    "From this one can easily see the importance of Wick's theorem. Lets do some checks using SymPy and derive Hartree-Fock energy"
   ]
  },
  {
   "cell_type": "markdown",
   "metadata": {
    "slideshow": {
     "slide_type": "slide"
    }
   },
   "source": [
    "### Electronic Hamiltonian\n",
    "\n",
    "$$H_{el} = \\sum_{pq} h_{pq} a_{p}^{\\dagger} a_{q} + \\frac{1}{4}\\sum_{pqrs} v^{pq}_{rs} a_{p}^{\\dagger}a_{q}^{\\dagger}a_{s}a_{r}$$\n",
    "\n",
    "where, \n",
    "\n",
    "$$h_{pq} = \\bra{\\phi_{p} (x)}(-\\frac{1}{2}\\nabla^{2} -\\sum_{\\alpha} \\frac{Z_{\\alpha}}{r_{\\alpha x}} )\\ket{\\phi_{q} (x)}$$\n",
    "\n",
    "$$v_{pqrs} = \\bra{\\phi_{p} \\phi_{q}}\\ket{\\phi_{r} \\phi_{s}} = \\braket{\\phi_{p} \\phi_{q}}{\\phi_{r}\\phi_{s}} - \\braket{\\phi_{p} \\phi_{q}}{\\phi_{s}\\phi_{r}}$$\n",
    "\n",
    "Lets find Hartree-Fock energy\n"
   ]
  },
  {
   "cell_type": "code",
   "execution_count": 8,
   "metadata": {
    "slideshow": {
     "slide_type": "slide"
    }
   },
   "outputs": [
    {
     "data": {
      "text/latex": [
       "$\\displaystyle h^{p}_{q} a^\\dagger_{p} a_{q} + \\frac{v^{pq}_{rs} a^\\dagger_{p} a^\\dagger_{q} a_{s} a_{r}}{4}$"
      ],
      "text/plain": [
       "AntiSymmetricTensor(h, (_p,), (_q,))*CreateFermion(_p)*AnnihilateFermion(_q) + AntiSymmetricTensor(v, (_p, _q), (_r, _s))*CreateFermion(_p)*CreateFermion(_q)*AnnihilateFermion(_s)*AnnihilateFermion(_r)/4"
      ]
     },
     "metadata": {},
     "output_type": "display_data"
    },
    {
     "data": {
      "text/latex": [
       "$\\displaystyle \\delta_{i p} \\delta_{p q} h^{q}_{p} + \\frac{\\delta_{i q} \\delta_{j p} \\delta_{p r} \\delta_{q s} v^{rs}_{pq}}{2}$"
      ],
      "text/plain": [
       "KroneckerDelta(_i, _p)*KroneckerDelta(_p, _q)*AntiSymmetricTensor(h, (_q,), (_p,)) + KroneckerDelta(_i, _q)*KroneckerDelta(_j, _p)*KroneckerDelta(_p, _r)*KroneckerDelta(_q, _s)*AntiSymmetricTensor(v, (_r, _s), (_p, _q))/2"
      ]
     },
     "metadata": {},
     "output_type": "display_data"
    },
    {
     "data": {
      "text/latex": [
       "$\\displaystyle h^{i}_{i} + \\frac{v^{ij}_{ij}}{2}$"
      ],
      "text/plain": [
       "AntiSymmetricTensor(h, (_i,), (_i,)) + AntiSymmetricTensor(v, (_i, _j), (_i, _j))/2"
      ]
     },
     "metadata": {},
     "output_type": "display_data"
    }
   ],
   "source": [
    "from sympy.physics.secondquant import wicks, F, Fd, NO  # F = AnnihilateFermion, Fd = CreateFermion\n",
    "from sympy.physics.secondquant import substitute_dummies, contraction\n",
    "from sympy.physics.secondquant import AntiSymmetricTensor, evaluate_deltas\n",
    "from sympy import symbols, Rational, Dummy\n",
    "    \n",
    "p, q, r, s = symbols('p,q,r,s', cls=Dummy)                                      \n",
    "\n",
    "h = AntiSymmetricTensor('h', (p,), (q,))                                        \n",
    "pq = Fd(p)*F(q)                                                                 \n",
    "v = AntiSymmetricTensor('v', (p, q), (r, s))                                    \n",
    "pqsr = Fd(p)*Fd(q)*F(s)*F(r)\n",
    "\n",
    "H = h*pq + Rational(1, 4)*v*pqsr                                                                                                                                              \n",
    "display(H) # Without summation                                                                    \n",
    "                                                                                \n",
    "eq = wicks(H,keep_only_fully_contracted=True)                                   \n",
    "index_rule = {'below':  'ijklmno','above':  'abcde', 'general': 'pqrs'}\n",
    "eq = substitute_dummies(eq, new_indices=True, pretty_indices=index_rule)\n",
    "display(eq)                                                                     \n",
    "\n",
    "eq = evaluate_deltas(eq)                                                                \n",
    "display(eq) "
   ]
  },
  {
   "cell_type": "markdown",
   "metadata": {
    "slideshow": {
     "slide_type": "slide"
    }
   },
   "source": [
    "### Normal ordered Hamiltonian\n",
    "\n",
    "$$H_{N} = \\sum_{pq} h_{pq} N[a_{p}^{\\dagger} a_{q}] + \\frac{1}{4}\\sum_{pqrs} v^{pq}_{rs} N[a_{p}^{\\dagger}a_{q}^{\\dagger}a_{s}a_{r}]$$\n",
    "\n",
    "One can show that \n",
    "\n",
    "$$H_{el} = H_{N} + E_{HF}$$\n",
    "\n",
    "From now on we will use $H_{N}$ or computing matrix elements, also $H_{N}$ measures the correlation effect"
   ]
  },
  {
   "cell_type": "markdown",
   "metadata": {
    "slideshow": {
     "slide_type": "slide"
    }
   },
   "source": [
    "### Baker-Campbell-Hauersdorf\n",
    "\n",
    "$$e^{-B} A  e^{B} = A + [A,B] + \\frac{1}{2!}[[A,B],B] + \\frac{1}{3!}[[[A,B],B],B] +  ... $$\n",
    "\n",
    "if $A$ is electronic Hamiltonian or normal ordered Hamiltonian and $B$ any excitation operator, then due to the stucture of Hamiltonian the series truncate after fourth expansion. This is the reason we call coupled cluster as coupled cluster. "
   ]
  },
  {
   "cell_type": "markdown",
   "metadata": {
    "slideshow": {
     "slide_type": "slide"
    }
   },
   "source": [
    "### Coupled Cluster Singles and Doubles (CCSD)\n",
    "$$\\Psi_{CCSD} = e^{T} \\ket{\\Phi_{0}}$$\n",
    "where, \n",
    "$$ T_{1} = \\sum_{ia}t_{i}^{a}a^{\\dagger}i$$\n",
    "\n",
    "$$ T_{2} = \\frac{1}{4}\\sum_{ijab}t_{ij}^{ab}a^{\\dagger}b^{\\dagger}ji$$\n",
    "\n",
    "Equations which need to be solved\n",
    "$$ E_{CCSD}^{cor} = \\bra{\\Phi_{0}}e^{-T} H_{N} e^{T} \\ket{\\Phi_{0}}   \\tag{Correltion energy}$$  \n",
    "\n",
    "$$ 0 = \\bra{\\Phi_{i}^{a}}e^{-T} H_{N} e^{T} \\ket{\\Phi_{0}}   \\tag{$T_{1}$ amplitude}$$  \n",
    "\n",
    "$$ 0 = \\bra{\\Phi_{ij}^{ab}}e^{-T} H_{N} e^{T} \\ket{\\Phi_{0}}   \\tag{$T_{2}$ amplitude}$$  \n",
    "\n",
    "Lets see the power of SymPy now,"
   ]
  },
  {
   "cell_type": "code",
   "execution_count": 9,
   "metadata": {
    "slideshow": {
     "slide_type": "slide"
    }
   },
   "outputs": [
    {
     "data": {
      "text/latex": [
       "$\\displaystyle f^{i}_{a} t^{a}_{i} - \\frac{t^{a}_{j} t^{b}_{i} v^{ij}_{ab}}{2} + \\frac{t^{ab}_{ij} v^{ij}_{ab}}{4}$"
      ],
      "text/plain": [
       "AntiSymmetricTensor(f, (_i,), (_a,))*AntiSymmetricTensor(t, (_a,), (_i,)) - AntiSymmetricTensor(t, (_a,), (_j,))*AntiSymmetricTensor(t, (_b,), (_i,))*AntiSymmetricTensor(v, (_i, _j), (_a, _b))/2 + AntiSymmetricTensor(t, (_a, _b), (_i, _j))*AntiSymmetricTensor(v, (_i, _j), (_a, _b))/4"
      ]
     },
     "metadata": {},
     "output_type": "display_data"
    }
   ],
   "source": [
    "from sympy.physics.secondquant import wicks, F, Fd, NO  # F = AnnihilateFermion, Fd = CreateFermion\n",
    "from sympy.physics.secondquant import substitute_dummies, contraction\n",
    "from sympy.physics.secondquant import AntiSymmetricTensor, evaluate_deltas\n",
    "from sympy.physics.secondquant import PermutationOperator, simplify_index_permutations\n",
    "from sympy import symbols, Rational, Dummy\n",
    "import BCH  \n",
    "    \n",
    "p, q, r, s = symbols('p,q,r,s', cls=Dummy) \n",
    "\n",
    "i,j = symbols('i,j' , below_fermi=True)                                     \n",
    "a,b = symbols('a,b' , above_fermi=True)\n",
    "\n",
    "f = AntiSymmetricTensor('f', (p,), (q,))                                        \n",
    "pq = NO(Fd(p)*F(q))                                                               \n",
    "v = AntiSymmetricTensor('v', (p, q), (r, s))                                    \n",
    "pqsr = NO(Fd(p)*Fd(q)*F(s)*F(r))\n",
    "\n",
    "H = f*pq + Rational(1, 4)*v*pqsr                                                                                                                                              \n",
    "\n",
    "ccsd = BCH.level(H,\"SD\")\n",
    "\n",
    "eq = wicks(ccsd,simplify_kronecker_deltas=True,keep_only_fully_contracted=True)                                   \n",
    "index_rule = {'below':  'ijklmno','above':  'abcdef', 'general': 'pqrs'}\n",
    "e_ccsd = substitute_dummies(eq, new_indices=True, pretty_indices=index_rule)                                                        \n",
    "display(e_ccsd) "
   ]
  },
  {
   "cell_type": "code",
   "execution_count": 10,
   "metadata": {
    "slideshow": {
     "slide_type": "subslide"
    }
   },
   "outputs": [
    {
     "data": {
      "text/latex": [
       "$\\displaystyle - f^{j}_{b} t^{b}_{i} t^{a}_{j} + f^{j}_{b} t^{ab}_{ij} - f^{j}_{i} t^{a}_{j} + f^{a}_{b} t^{b}_{i} + f^{a}_{i} - t^{b}_{j} t^{c}_{i} t^{a}_{k} v^{jk}_{bc} - t^{b}_{j} t^{c}_{i} v^{aj}_{bc} + t^{b}_{j} t^{a}_{k} v^{jk}_{ib} + t^{b}_{j} t^{ac}_{ik} v^{jk}_{bc} + t^{b}_{j} v^{aj}_{ib} - \\frac{t^{b}_{i} t^{ac}_{jk} v^{jk}_{bc}}{2} + \\frac{t^{a}_{k} t^{bc}_{ij} v^{jk}_{bc}}{2} + \\frac{t^{bc}_{ij} v^{aj}_{bc}}{2} - \\frac{t^{ab}_{jk} v^{jk}_{ib}}{2}$"
      ],
      "text/plain": [
       "-AntiSymmetricTensor(f, (_j,), (_b,))*AntiSymmetricTensor(t, (_b,), (i,))*AntiSymmetricTensor(t, (a,), (_j,)) + AntiSymmetricTensor(f, (_j,), (_b,))*AntiSymmetricTensor(t, (a, _b), (i, _j)) - AntiSymmetricTensor(f, (_j,), (i,))*AntiSymmetricTensor(t, (a,), (_j,)) + AntiSymmetricTensor(f, (a,), (_b,))*AntiSymmetricTensor(t, (_b,), (i,)) + AntiSymmetricTensor(f, (a,), (i,)) - AntiSymmetricTensor(t, (_b,), (_j,))*AntiSymmetricTensor(t, (_c,), (i,))*AntiSymmetricTensor(t, (a,), (_k,))*AntiSymmetricTensor(v, (_j, _k), (_b, _c)) - AntiSymmetricTensor(t, (_b,), (_j,))*AntiSymmetricTensor(t, (_c,), (i,))*AntiSymmetricTensor(v, (a, _j), (_b, _c)) + AntiSymmetricTensor(t, (_b,), (_j,))*AntiSymmetricTensor(t, (a,), (_k,))*AntiSymmetricTensor(v, (_j, _k), (i, _b)) + AntiSymmetricTensor(t, (_b,), (_j,))*AntiSymmetricTensor(t, (a, _c), (i, _k))*AntiSymmetricTensor(v, (_j, _k), (_b, _c)) + AntiSymmetricTensor(t, (_b,), (_j,))*AntiSymmetricTensor(v, (a, _j), (i, _b)) - AntiSymmetricTensor(t, (_b,), (i,))*AntiSymmetricTensor(t, (a, _c), (_j, _k))*AntiSymmetricTensor(v, (_j, _k), (_b, _c))/2 + AntiSymmetricTensor(t, (a,), (_k,))*AntiSymmetricTensor(t, (_b, _c), (i, _j))*AntiSymmetricTensor(v, (_j, _k), (_b, _c))/2 + AntiSymmetricTensor(t, (_b, _c), (i, _j))*AntiSymmetricTensor(v, (a, _j), (_b, _c))/2 - AntiSymmetricTensor(t, (a, _b), (_j, _k))*AntiSymmetricTensor(v, (_j, _k), (i, _b))/2"
      ]
     },
     "metadata": {},
     "output_type": "display_data"
    }
   ],
   "source": [
    "eq = wicks(Fd(i)*F(a)*ccsd,simplify_kronecker_deltas=True,keep_only_fully_contracted=True)   \n",
    "index_rule = {'below':  'jklmno','above':  'bcdef', 'general': 'pqrs'}\n",
    "t1 = (substitute_dummies(eq, new_indices=True, pretty_indices=index_rule))        \n",
    "display(t1) "
   ]
  },
  {
   "cell_type": "code",
   "execution_count": 11,
   "metadata": {
    "slideshow": {
     "slide_type": "subslide"
    }
   },
   "outputs": [
    {
     "data": {
      "text/latex": [
       "$\\displaystyle f^{k}_{c} t^{c}_{i} t^{ab}_{jk} P(ij) + f^{k}_{c} t^{a}_{k} t^{bc}_{ij} P(ab) + f^{k}_{i} t^{ab}_{jk} P(ij) - f^{a}_{c} t^{bc}_{ij} P(ab) + t^{c}_{k} t^{d}_{i} t^{ab}_{jl} v^{kl}_{cd} P(ij) + t^{c}_{k} t^{a}_{l} t^{bd}_{ij} v^{kl}_{cd} P(ab) - t^{c}_{k} t^{ad}_{ij} v^{bk}_{cd} P(ab) + t^{c}_{k} t^{ab}_{il} v^{kl}_{jc} P(ij) + t^{c}_{i} t^{d}_{j} t^{a}_{k} t^{b}_{l} v^{kl}_{cd} + t^{c}_{i} t^{d}_{j} t^{a}_{k} v^{bk}_{cd} P(ab) + \\frac{t^{c}_{i} t^{d}_{j} t^{ab}_{kl} v^{kl}_{cd}}{2} + t^{c}_{i} t^{d}_{j} v^{ab}_{cd} - t^{c}_{i} t^{a}_{k} t^{b}_{l} v^{kl}_{jc} P(ij) - t^{c}_{i} t^{a}_{k} t^{bd}_{jl} v^{kl}_{cd} P(ab) P(ij) - t^{c}_{i} t^{a}_{k} v^{bk}_{jc} P(ab) P(ij) - t^{c}_{i} t^{ad}_{jk} v^{bk}_{cd} P(ab) P(ij) - \\frac{t^{c}_{i} t^{ab}_{kl} v^{kl}_{jc} P(ij)}{2} - t^{c}_{i} v^{ab}_{jc} P(ij) + \\frac{t^{a}_{k} t^{b}_{l} t^{cd}_{ij} v^{kl}_{cd}}{2} + t^{a}_{k} t^{b}_{l} v^{kl}_{ij} + \\frac{t^{a}_{k} t^{cd}_{ij} v^{bk}_{cd} P(ab)}{2} + t^{a}_{k} t^{bc}_{il} v^{kl}_{jc} P(ab) P(ij) + t^{a}_{k} v^{bk}_{ij} P(ab) + \\frac{t^{cd}_{ij} t^{ab}_{kl} v^{kl}_{cd}}{4} + \\frac{t^{cd}_{ij} v^{ab}_{cd}}{2} + \\frac{t^{cd}_{jk} t^{ab}_{il} v^{kl}_{cd} P(ij)}{2} + t^{ac}_{ik} t^{bd}_{jl} v^{kl}_{cd} P(ij) + t^{ac}_{ik} v^{bk}_{jc} P(ab) P(ij) - \\frac{t^{ac}_{ij} t^{bd}_{kl} v^{kl}_{cd} P(ab)}{2} + \\frac{t^{ab}_{kl} v^{kl}_{ij}}{2} + v^{ab}_{ij}$"
      ],
      "text/plain": [
       "AntiSymmetricTensor(f, (_k,), (_c,))*AntiSymmetricTensor(t, (_c,), (i,))*AntiSymmetricTensor(t, (a, b), (j, _k))*PermutationOperator(i, j) + AntiSymmetricTensor(f, (_k,), (_c,))*AntiSymmetricTensor(t, (a,), (_k,))*AntiSymmetricTensor(t, (b, _c), (i, j))*PermutationOperator(a, b) + AntiSymmetricTensor(f, (_k,), (i,))*AntiSymmetricTensor(t, (a, b), (j, _k))*PermutationOperator(i, j) - AntiSymmetricTensor(f, (a,), (_c,))*AntiSymmetricTensor(t, (b, _c), (i, j))*PermutationOperator(a, b) + AntiSymmetricTensor(t, (_c,), (_k,))*AntiSymmetricTensor(t, (_d,), (i,))*AntiSymmetricTensor(t, (a, b), (j, _l))*AntiSymmetricTensor(v, (_k, _l), (_c, _d))*PermutationOperator(i, j) + AntiSymmetricTensor(t, (_c,), (_k,))*AntiSymmetricTensor(t, (a,), (_l,))*AntiSymmetricTensor(t, (b, _d), (i, j))*AntiSymmetricTensor(v, (_k, _l), (_c, _d))*PermutationOperator(a, b) - AntiSymmetricTensor(t, (_c,), (_k,))*AntiSymmetricTensor(t, (a, _d), (i, j))*AntiSymmetricTensor(v, (b, _k), (_c, _d))*PermutationOperator(a, b) + AntiSymmetricTensor(t, (_c,), (_k,))*AntiSymmetricTensor(t, (a, b), (i, _l))*AntiSymmetricTensor(v, (_k, _l), (j, _c))*PermutationOperator(i, j) + AntiSymmetricTensor(t, (_c,), (i,))*AntiSymmetricTensor(t, (_d,), (j,))*AntiSymmetricTensor(t, (a,), (_k,))*AntiSymmetricTensor(t, (b,), (_l,))*AntiSymmetricTensor(v, (_k, _l), (_c, _d)) + AntiSymmetricTensor(t, (_c,), (i,))*AntiSymmetricTensor(t, (_d,), (j,))*AntiSymmetricTensor(t, (a,), (_k,))*AntiSymmetricTensor(v, (b, _k), (_c, _d))*PermutationOperator(a, b) + AntiSymmetricTensor(t, (_c,), (i,))*AntiSymmetricTensor(t, (_d,), (j,))*AntiSymmetricTensor(t, (a, b), (_k, _l))*AntiSymmetricTensor(v, (_k, _l), (_c, _d))/2 + AntiSymmetricTensor(t, (_c,), (i,))*AntiSymmetricTensor(t, (_d,), (j,))*AntiSymmetricTensor(v, (a, b), (_c, _d)) - AntiSymmetricTensor(t, (_c,), (i,))*AntiSymmetricTensor(t, (a,), (_k,))*AntiSymmetricTensor(t, (b,), (_l,))*AntiSymmetricTensor(v, (_k, _l), (j, _c))*PermutationOperator(i, j) - AntiSymmetricTensor(t, (_c,), (i,))*AntiSymmetricTensor(t, (a,), (_k,))*AntiSymmetricTensor(t, (b, _d), (j, _l))*AntiSymmetricTensor(v, (_k, _l), (_c, _d))*PermutationOperator(a, b)*PermutationOperator(i, j) - AntiSymmetricTensor(t, (_c,), (i,))*AntiSymmetricTensor(t, (a,), (_k,))*AntiSymmetricTensor(v, (b, _k), (j, _c))*PermutationOperator(a, b)*PermutationOperator(i, j) - AntiSymmetricTensor(t, (_c,), (i,))*AntiSymmetricTensor(t, (a, _d), (j, _k))*AntiSymmetricTensor(v, (b, _k), (_c, _d))*PermutationOperator(a, b)*PermutationOperator(i, j) - AntiSymmetricTensor(t, (_c,), (i,))*AntiSymmetricTensor(t, (a, b), (_k, _l))*AntiSymmetricTensor(v, (_k, _l), (j, _c))*PermutationOperator(i, j)/2 - AntiSymmetricTensor(t, (_c,), (i,))*AntiSymmetricTensor(v, (a, b), (j, _c))*PermutationOperator(i, j) + AntiSymmetricTensor(t, (a,), (_k,))*AntiSymmetricTensor(t, (b,), (_l,))*AntiSymmetricTensor(t, (_c, _d), (i, j))*AntiSymmetricTensor(v, (_k, _l), (_c, _d))/2 + AntiSymmetricTensor(t, (a,), (_k,))*AntiSymmetricTensor(t, (b,), (_l,))*AntiSymmetricTensor(v, (_k, _l), (i, j)) + AntiSymmetricTensor(t, (a,), (_k,))*AntiSymmetricTensor(t, (_c, _d), (i, j))*AntiSymmetricTensor(v, (b, _k), (_c, _d))*PermutationOperator(a, b)/2 + AntiSymmetricTensor(t, (a,), (_k,))*AntiSymmetricTensor(t, (b, _c), (i, _l))*AntiSymmetricTensor(v, (_k, _l), (j, _c))*PermutationOperator(a, b)*PermutationOperator(i, j) + AntiSymmetricTensor(t, (a,), (_k,))*AntiSymmetricTensor(v, (b, _k), (i, j))*PermutationOperator(a, b) + AntiSymmetricTensor(t, (_c, _d), (i, j))*AntiSymmetricTensor(t, (a, b), (_k, _l))*AntiSymmetricTensor(v, (_k, _l), (_c, _d))/4 + AntiSymmetricTensor(t, (_c, _d), (i, j))*AntiSymmetricTensor(v, (a, b), (_c, _d))/2 + AntiSymmetricTensor(t, (_c, _d), (j, _k))*AntiSymmetricTensor(t, (a, b), (i, _l))*AntiSymmetricTensor(v, (_k, _l), (_c, _d))*PermutationOperator(i, j)/2 + AntiSymmetricTensor(t, (a, _c), (i, _k))*AntiSymmetricTensor(t, (b, _d), (j, _l))*AntiSymmetricTensor(v, (_k, _l), (_c, _d))*PermutationOperator(i, j) + AntiSymmetricTensor(t, (a, _c), (i, _k))*AntiSymmetricTensor(v, (b, _k), (j, _c))*PermutationOperator(a, b)*PermutationOperator(i, j) - AntiSymmetricTensor(t, (a, _c), (i, j))*AntiSymmetricTensor(t, (b, _d), (_k, _l))*AntiSymmetricTensor(v, (_k, _l), (_c, _d))*PermutationOperator(a, b)/2 + AntiSymmetricTensor(t, (a, b), (_k, _l))*AntiSymmetricTensor(v, (_k, _l), (i, j))/2 + AntiSymmetricTensor(v, (a, b), (i, j))"
      ]
     },
     "metadata": {},
     "output_type": "display_data"
    }
   ],
   "source": [
    "eq = wicks(Fd(i)*Fd(j)*F(b)*F(a)*ccsd,simplify_kronecker_deltas=True,keep_only_fully_contracted=True)   \n",
    "index_rule = {'below':  'klmno','above':  'cdef', 'general': 'pqrs'}\n",
    "t2 = substitute_dummies(eq, new_indices=True, pretty_indices=index_rule)    \n",
    "P = PermutList = [PermutationOperator(i,j),PermutationOperator(a,b)]\n",
    "t2 = simplify_index_permutations(t2,PermutList)\n",
    "display(t2) "
   ]
  },
  {
   "cell_type": "markdown",
   "metadata": {
    "slideshow": {
     "slide_type": "slide"
    }
   },
   "source": [
    "### Equation-of-motion Coupled-Cluster\n",
    "\n",
    "EOM-CC allows to compute excited and open-shell character electronic states. There are many flavor depending on the target state from reference.\n",
    "\n",
    "\n",
    "#### Energy and amplitude equations of EOM-CC\n",
    "\n",
    "$$\\bar{H} = e^{-T} H_{N} e^{T}$$\n",
    "\n",
    "$$\\bra{\\Phi_{ij..}^{ab..}}\\bar{H}\\hat{R}\\ket{\\Phi_{0}} = E_{EOM} \\bra{\\Phi_{ij..}^{ab..}}\\hat{R}\\ket{\\Phi_{0}}$$\n",
    "\n",
    "$$\\bra{\\Phi_{ij..}^{ab..}}[\\bar{H}-E_{cc},\\hat{R}]\\ket{\\Phi_{0}} = \\Delta E_{EOM} \\bra{\\Phi_{ij..}^{ab..}}\\hat{R}\\ket{\\Phi_{0}}$$\n",
    "\n",
    "Last equation is the one which we will derive using SymPy"
   ]
  },
  {
   "cell_type": "markdown",
   "metadata": {
    "slideshow": {
     "slide_type": "slide"
    }
   },
   "source": [
    "Example - EOM-IP-CCSD using genralized Davidson method\n",
    "\n",
    "\n",
    "$$\\begin{pmatrix}                                                               \n",
    "    \\bar{H}_{SS} - E_{cc} & \\bar{H}_{SD} \\\\                                     \n",
    "    \\bar{H}_{DS}          &  \\bar{H}_{DD} - E_{cc}                              \n",
    "  \\end{pmatrix}\n",
    "  \\begin{pmatrix}                                                               \n",
    "    R_{1}\\\\                                                                     \n",
    "    R_{2}                                                                       \n",
    "  \\end{pmatrix}=\\omega                                                                   \n",
    "  \\begin{pmatrix}                                                               \n",
    "    R_{1}\\\\                                                                     \n",
    "    R_{2}                                                                       \n",
    "  \\end{pmatrix}$$                                                             \n",
    "  and      \n",
    "  \n",
    "  $$\\begin{pmatrix}                                                               \n",
    "    L_{1} & &  L_{2}                                                            \n",
    "  \\end{pmatrix}     \n",
    "  \\begin{pmatrix}                                                               \n",
    "    \\bar{H}_{SS}-E_{cc} & \\bar{H}_{SD} \\\\                                       \n",
    "    \\bar{H}_{DS} & \\bar{H}_{DD}-E_{cc}                                          \n",
    "  \\end{pmatrix}                                                                 \n",
    "  =                                                                             \n",
    "  \\omega                                                                        \n",
    "  \\begin{pmatrix}                                                               \n",
    "    L_{1} & & L_{2},                                                            \n",
    "  \\end{pmatrix}    $$                                                          \n",
    "\n",
    "Using matrix equations"
   ]
  },
  {
   "cell_type": "markdown",
   "metadata": {
    "slideshow": {
     "slide_type": "slide"
    }
   },
   "source": [
    "Need right $\\sigma$ amplitudes of EOM-IP-CCSD amplitudes and for this we need \n",
    "\n",
    "$$\\bra{\\Phi_{i}}[\\bar{H}-E_{cc},\\hat{R_{1}}]\\ket{\\Phi_{0}} = ((\\bar{H}_{SS} - E_{cc}) R_{1})$$\n",
    "\n",
    "$$\\bra{\\Phi_{ij}^{a}}[\\bar{H},\\hat{R_{1}}]\\ket{\\Phi_{0}} = (\\bar{H}_{DS} R_{1}) $$\n",
    "\n",
    "$$\\bra{\\Phi_{i}}[\\bar{H},\\hat{R_{2}}]\\ket{\\Phi_{0}} = (\\bar{H}_{SD} R_{2})$$\n",
    "\n",
    "$$\\bra{\\Phi_{ij}^{a}}[\\bar{H}-E_{cc},\\hat{R_{2}}]\\ket{\\Phi_{0}} =((\\bar{H}_{DD} - E_{cc}) R_{2}) $$\n",
    "\n",
    "Therefore, trial vectors are defined as \n",
    "                                                            \n",
    "$$\\sigma_{1}=((\\bar{H}_{SS}-E_{cc})R_{1})+(\\bar{H}_{SD}R_{2})$$\n",
    "$$\\sigma_{2}=(\\bar{H}_{DS}R_{1}) +((\\bar{H}_{DD}-E_{cc})R_{2})$$\n",
    "\n",
    "Similarly, left vectors are defined. Lets use power of SymPy for right $\\sigma$ amplitudes of EOM-IP-CCSD"
   ]
  },
  {
   "cell_type": "code",
   "execution_count": 12,
   "metadata": {
    "slideshow": {
     "slide_type": "slide"
    }
   },
   "outputs": [
    {
     "data": {
      "text/markdown": [
       " Computing right sigma amplitudes for IP (skipping summation for dummy variables)"
      ],
      "text/plain": [
       "<IPython.core.display.Markdown object>"
      ]
     },
     "metadata": {},
     "output_type": "display_data"
    },
    {
     "data": {
      "text/latex": [
       "$\\displaystyle ((\\overline{H}_{SS}-E_{cc})R_{1}) = - f^{j}_{a} r^{}_{j} t^{a}_{i} - f^{j}_{i} r^{}_{j} + r^{}_{j} t^{a}_{k} t^{b}_{i} v^{jk}_{ab} - r^{}_{j} t^{a}_{k} v^{jk}_{ia} - \\frac{r^{}_{j} t^{ab}_{ik} v^{jk}_{ab}}{2}$"
      ],
      "text/plain": [
       "Eq(((\\overline{H}_{SS}-E_{cc})R_{1}), -AntiSymmetricTensor(f, (_j,), (_a,))*AntiSymmetricTensor(r, (), (_j,))*AntiSymmetricTensor(t, (_a,), (i,)) - AntiSymmetricTensor(f, (_j,), (i,))*AntiSymmetricTensor(r, (), (_j,)) + AntiSymmetricTensor(r, (), (_j,))*AntiSymmetricTensor(t, (_a,), (_k,))*AntiSymmetricTensor(t, (_b,), (i,))*AntiSymmetricTensor(v, (_j, _k), (_a, _b)) - AntiSymmetricTensor(r, (), (_j,))*AntiSymmetricTensor(t, (_a,), (_k,))*AntiSymmetricTensor(v, (_j, _k), (i, _a)) - AntiSymmetricTensor(r, (), (_j,))*AntiSymmetricTensor(t, (_a, _b), (i, _k))*AntiSymmetricTensor(v, (_j, _k), (_a, _b))/2)"
      ]
     },
     "metadata": {},
     "output_type": "display_data"
    },
    {
     "data": {
      "text/latex": [
       "$\\displaystyle (\\overline{H}_{SD}R_{2}) = f^{j}_{a} r^{a}_{ij} + \\frac{r^{a}_{jk} t^{b}_{i} v^{jk}_{ab}}{2} - \\frac{r^{a}_{jk} v^{jk}_{ia}}{2} + r^{a}_{ij} t^{b}_{k} v^{jk}_{ab}$"
      ],
      "text/plain": [
       "Eq((\\overline{H}_{SD}R_{2}), AntiSymmetricTensor(f, (_j,), (_a,))*AntiSymmetricTensor(r, (_a,), (i, _j)) + AntiSymmetricTensor(r, (_a,), (_j, _k))*AntiSymmetricTensor(t, (_b,), (i,))*AntiSymmetricTensor(v, (_j, _k), (_a, _b))/2 - AntiSymmetricTensor(r, (_a,), (_j, _k))*AntiSymmetricTensor(v, (_j, _k), (i, _a))/2 + AntiSymmetricTensor(r, (_a,), (i, _j))*AntiSymmetricTensor(t, (_b,), (_k,))*AntiSymmetricTensor(v, (_j, _k), (_a, _b)))"
      ]
     },
     "metadata": {},
     "output_type": "display_data"
    },
    {
     "data": {
      "text/latex": [
       "$\\displaystyle (\\overline{H}_{DS}R_{1}) = f^{k}_{b} r^{}_{k} t^{ab}_{ij} - r^{}_{k} t^{b}_{l} t^{ac}_{ij} v^{kl}_{bc} + r^{}_{k} t^{b}_{i} t^{c}_{j} t^{a}_{l} v^{kl}_{bc} + r^{}_{k} t^{b}_{i} t^{c}_{j} v^{ak}_{bc} - r^{}_{k} t^{b}_{i} t^{a}_{l} v^{kl}_{jb} - r^{}_{k} t^{b}_{i} t^{ac}_{jl} v^{kl}_{bc} - r^{}_{k} t^{b}_{i} v^{ak}_{jb} + r^{}_{k} t^{b}_{j} t^{a}_{l} v^{kl}_{ib} + r^{}_{k} t^{b}_{j} t^{ac}_{il} v^{kl}_{bc} + r^{}_{k} t^{b}_{j} v^{ak}_{ib} + \\frac{r^{}_{k} t^{a}_{l} t^{bc}_{ij} v^{kl}_{bc}}{2} + r^{}_{k} t^{a}_{l} v^{kl}_{ij} + \\frac{r^{}_{k} t^{bc}_{ij} v^{ak}_{bc}}{2} + r^{}_{k} t^{ab}_{il} v^{kl}_{jb} - r^{}_{k} t^{ab}_{jl} v^{kl}_{ib} + r^{}_{k} v^{ak}_{ij}$"
      ],
      "text/plain": [
       "Eq((\\overline{H}_{DS}R_{1}), AntiSymmetricTensor(f, (_k,), (_b,))*AntiSymmetricTensor(r, (), (_k,))*AntiSymmetricTensor(t, (a, _b), (i, j)) - AntiSymmetricTensor(r, (), (_k,))*AntiSymmetricTensor(t, (_b,), (_l,))*AntiSymmetricTensor(t, (a, _c), (i, j))*AntiSymmetricTensor(v, (_k, _l), (_b, _c)) + AntiSymmetricTensor(r, (), (_k,))*AntiSymmetricTensor(t, (_b,), (i,))*AntiSymmetricTensor(t, (_c,), (j,))*AntiSymmetricTensor(t, (a,), (_l,))*AntiSymmetricTensor(v, (_k, _l), (_b, _c)) + AntiSymmetricTensor(r, (), (_k,))*AntiSymmetricTensor(t, (_b,), (i,))*AntiSymmetricTensor(t, (_c,), (j,))*AntiSymmetricTensor(v, (a, _k), (_b, _c)) - AntiSymmetricTensor(r, (), (_k,))*AntiSymmetricTensor(t, (_b,), (i,))*AntiSymmetricTensor(t, (a,), (_l,))*AntiSymmetricTensor(v, (_k, _l), (j, _b)) - AntiSymmetricTensor(r, (), (_k,))*AntiSymmetricTensor(t, (_b,), (i,))*AntiSymmetricTensor(t, (a, _c), (j, _l))*AntiSymmetricTensor(v, (_k, _l), (_b, _c)) - AntiSymmetricTensor(r, (), (_k,))*AntiSymmetricTensor(t, (_b,), (i,))*AntiSymmetricTensor(v, (a, _k), (j, _b)) + AntiSymmetricTensor(r, (), (_k,))*AntiSymmetricTensor(t, (_b,), (j,))*AntiSymmetricTensor(t, (a,), (_l,))*AntiSymmetricTensor(v, (_k, _l), (i, _b)) + AntiSymmetricTensor(r, (), (_k,))*AntiSymmetricTensor(t, (_b,), (j,))*AntiSymmetricTensor(t, (a, _c), (i, _l))*AntiSymmetricTensor(v, (_k, _l), (_b, _c)) + AntiSymmetricTensor(r, (), (_k,))*AntiSymmetricTensor(t, (_b,), (j,))*AntiSymmetricTensor(v, (a, _k), (i, _b)) + AntiSymmetricTensor(r, (), (_k,))*AntiSymmetricTensor(t, (a,), (_l,))*AntiSymmetricTensor(t, (_b, _c), (i, j))*AntiSymmetricTensor(v, (_k, _l), (_b, _c))/2 + AntiSymmetricTensor(r, (), (_k,))*AntiSymmetricTensor(t, (a,), (_l,))*AntiSymmetricTensor(v, (_k, _l), (i, j)) + AntiSymmetricTensor(r, (), (_k,))*AntiSymmetricTensor(t, (_b, _c), (i, j))*AntiSymmetricTensor(v, (a, _k), (_b, _c))/2 + AntiSymmetricTensor(r, (), (_k,))*AntiSymmetricTensor(t, (a, _b), (i, _l))*AntiSymmetricTensor(v, (_k, _l), (j, _b)) - AntiSymmetricTensor(r, (), (_k,))*AntiSymmetricTensor(t, (a, _b), (j, _l))*AntiSymmetricTensor(v, (_k, _l), (i, _b)) + AntiSymmetricTensor(r, (), (_k,))*AntiSymmetricTensor(v, (a, _k), (i, j)))"
      ]
     },
     "metadata": {},
     "output_type": "display_data"
    },
    {
     "data": {
      "text/latex": [
       "$\\displaystyle ((\\overline{H}_{DD}-E_{cc})R_{2}) = - f^{k}_{b} r^{b}_{ij} t^{a}_{k} - f^{k}_{b} r^{a}_{ik} t^{b}_{j} P(ij) + f^{k}_{i} r^{a}_{jk} P(ij) + f^{a}_{b} r^{b}_{ij} - \\frac{r^{b}_{kl} t^{ac}_{ij} v^{kl}_{bc}}{2} - r^{b}_{ik} t^{c}_{j} t^{a}_{l} v^{kl}_{bc} P(ij) - r^{b}_{ik} t^{c}_{j} v^{ak}_{bc} P(ij) + r^{b}_{ik} t^{a}_{l} v^{kl}_{jb} P(ij) + r^{b}_{ik} t^{ac}_{jl} v^{kl}_{bc} P(ij) + r^{b}_{ik} v^{ak}_{jb} P(ij) + r^{b}_{ij} t^{c}_{k} t^{a}_{l} v^{kl}_{bc} + r^{b}_{ij} t^{c}_{k} v^{ak}_{bc} - \\frac{r^{b}_{ij} t^{ac}_{kl} v^{kl}_{bc}}{2} + \\frac{r^{a}_{kl} t^{b}_{i} t^{c}_{j} v^{kl}_{bc}}{2} - \\frac{r^{a}_{kl} t^{b}_{i} v^{kl}_{jb} P(ij)}{2} + \\frac{r^{a}_{kl} t^{bc}_{ij} v^{kl}_{bc}}{4} + \\frac{r^{a}_{kl} v^{kl}_{ij}}{2} + r^{a}_{ik} t^{b}_{l} t^{c}_{j} v^{kl}_{bc} P(ij) - r^{a}_{ik} t^{b}_{l} v^{kl}_{jb} P(ij) - \\frac{r^{a}_{ik} t^{bc}_{jl} v^{kl}_{bc} P(ij)}{2}$"
      ],
      "text/plain": [
       "Eq(((\\overline{H}_{DD}-E_{cc})R_{2}), -AntiSymmetricTensor(f, (_k,), (_b,))*AntiSymmetricTensor(r, (_b,), (i, j))*AntiSymmetricTensor(t, (a,), (_k,)) - AntiSymmetricTensor(f, (_k,), (_b,))*AntiSymmetricTensor(r, (a,), (i, _k))*AntiSymmetricTensor(t, (_b,), (j,))*PermutationOperator(i, j) + AntiSymmetricTensor(f, (_k,), (i,))*AntiSymmetricTensor(r, (a,), (j, _k))*PermutationOperator(i, j) + AntiSymmetricTensor(f, (a,), (_b,))*AntiSymmetricTensor(r, (_b,), (i, j)) - AntiSymmetricTensor(r, (_b,), (_k, _l))*AntiSymmetricTensor(t, (a, _c), (i, j))*AntiSymmetricTensor(v, (_k, _l), (_b, _c))/2 - AntiSymmetricTensor(r, (_b,), (i, _k))*AntiSymmetricTensor(t, (_c,), (j,))*AntiSymmetricTensor(t, (a,), (_l,))*AntiSymmetricTensor(v, (_k, _l), (_b, _c))*PermutationOperator(i, j) - AntiSymmetricTensor(r, (_b,), (i, _k))*AntiSymmetricTensor(t, (_c,), (j,))*AntiSymmetricTensor(v, (a, _k), (_b, _c))*PermutationOperator(i, j) + AntiSymmetricTensor(r, (_b,), (i, _k))*AntiSymmetricTensor(t, (a,), (_l,))*AntiSymmetricTensor(v, (_k, _l), (j, _b))*PermutationOperator(i, j) + AntiSymmetricTensor(r, (_b,), (i, _k))*AntiSymmetricTensor(t, (a, _c), (j, _l))*AntiSymmetricTensor(v, (_k, _l), (_b, _c))*PermutationOperator(i, j) + AntiSymmetricTensor(r, (_b,), (i, _k))*AntiSymmetricTensor(v, (a, _k), (j, _b))*PermutationOperator(i, j) + AntiSymmetricTensor(r, (_b,), (i, j))*AntiSymmetricTensor(t, (_c,), (_k,))*AntiSymmetricTensor(t, (a,), (_l,))*AntiSymmetricTensor(v, (_k, _l), (_b, _c)) + AntiSymmetricTensor(r, (_b,), (i, j))*AntiSymmetricTensor(t, (_c,), (_k,))*AntiSymmetricTensor(v, (a, _k), (_b, _c)) - AntiSymmetricTensor(r, (_b,), (i, j))*AntiSymmetricTensor(t, (a, _c), (_k, _l))*AntiSymmetricTensor(v, (_k, _l), (_b, _c))/2 + AntiSymmetricTensor(r, (a,), (_k, _l))*AntiSymmetricTensor(t, (_b,), (i,))*AntiSymmetricTensor(t, (_c,), (j,))*AntiSymmetricTensor(v, (_k, _l), (_b, _c))/2 - AntiSymmetricTensor(r, (a,), (_k, _l))*AntiSymmetricTensor(t, (_b,), (i,))*AntiSymmetricTensor(v, (_k, _l), (j, _b))*PermutationOperator(i, j)/2 + AntiSymmetricTensor(r, (a,), (_k, _l))*AntiSymmetricTensor(t, (_b, _c), (i, j))*AntiSymmetricTensor(v, (_k, _l), (_b, _c))/4 + AntiSymmetricTensor(r, (a,), (_k, _l))*AntiSymmetricTensor(v, (_k, _l), (i, j))/2 + AntiSymmetricTensor(r, (a,), (i, _k))*AntiSymmetricTensor(t, (_b,), (_l,))*AntiSymmetricTensor(t, (_c,), (j,))*AntiSymmetricTensor(v, (_k, _l), (_b, _c))*PermutationOperator(i, j) - AntiSymmetricTensor(r, (a,), (i, _k))*AntiSymmetricTensor(t, (_b,), (_l,))*AntiSymmetricTensor(v, (_k, _l), (j, _b))*PermutationOperator(i, j) - AntiSymmetricTensor(r, (a,), (i, _k))*AntiSymmetricTensor(t, (_b, _c), (j, _l))*AntiSymmetricTensor(v, (_k, _l), (_b, _c))*PermutationOperator(i, j)/2)"
      ]
     },
     "metadata": {},
     "output_type": "display_data"
    }
   ],
   "source": [
    "import EOM,SIGMA\n",
    "flavor1 = \"IP\"\n",
    "R0_f1 = EOM.R0(flavor1)\n",
    "R1_f1 = EOM.R1(flavor1)\n",
    "R2_f1 = EOM.R2(flavor1)\n",
    "Rf1  = R0_f1 + R1_f1 + R2_f1\n",
    "                                                                            \n",
    "SIGMA.RVECTORS(R0_f1,R1_f1,R2_f1,flavor1)"
   ]
  },
  {
   "cell_type": "markdown",
   "metadata": {
    "slideshow": {
     "slide_type": "slide"
    }
   },
   "source": [
    "### Properties \n",
    "\n",
    "#### One particle density matrix (OPDM)\n",
    "$$\\gamma^I_{pq}= \\bra{\\Psi_{I}}p^{\\dagger}q\\ket{\\Psi_{I}}$$\n",
    "\n",
    "\n",
    "#### One particle transition density matrix (OPTDM)\n",
    "$$\\gamma^{IJ}_{pq}= \\bra{\\Psi_{I}}p^{\\dagger}q\\ket{\\Psi_{J}}$$\n",
    "\n"
   ]
  },
  {
   "cell_type": "code",
   "execution_count": 13,
   "metadata": {
    "slideshow": {
     "slide_type": "subslide"
    }
   },
   "outputs": [
    {
     "data": {
      "text/markdown": [
       " Computing OPDM for IP (skipping summation for dummy variables)"
      ],
      "text/plain": [
       "<IPython.core.display.Markdown object>"
      ]
     },
     "metadata": {},
     "output_type": "display_data"
    },
    {
     "data": {
      "text/latex": [
       "$\\displaystyle \\gamma_{ij} = \\delta_{i j} l^{k}_{} r^{}_{k} + \\frac{\\delta_{i j} l^{kl}_{a} r^{a}_{kl}}{2} - l^{j}_{} r^{}_{i} + l^{jk}_{a} r^{}_{k} t^{a}_{i} - l^{jk}_{a} r^{a}_{ik}$"
      ],
      "text/plain": [
       "Eq(\\gamma_{ij}, KroneckerDelta(i, j)*AntiSymmetricTensor(l, (_k,), ())*AntiSymmetricTensor(r, (), (_k,)) + KroneckerDelta(i, j)*AntiSymmetricTensor(l, (_k, _l), (_a,))*AntiSymmetricTensor(r, (_a,), (_k, _l))/2 - AntiSymmetricTensor(l, (j,), ())*AntiSymmetricTensor(r, (), (i,)) + AntiSymmetricTensor(l, (j, _k), (_a,))*AntiSymmetricTensor(r, (), (_k,))*AntiSymmetricTensor(t, (_a,), (i,)) - AntiSymmetricTensor(l, (j, _k), (_a,))*AntiSymmetricTensor(r, (_a,), (i, _k)))"
      ]
     },
     "metadata": {},
     "output_type": "display_data"
    },
    {
     "data": {
      "text/latex": [
       "$\\displaystyle \\gamma_{ia} = l^{j}_{} r^{}_{j} t^{a}_{i} - l^{j}_{} r^{}_{i} t^{a}_{j} - l^{j}_{} r^{a}_{ij} - l^{jk}_{b} r^{}_{j} t^{b}_{i} t^{a}_{k} + l^{jk}_{b} r^{}_{j} t^{ab}_{ik} - \\frac{l^{jk}_{b} r^{}_{i} t^{ab}_{jk}}{2} + \\frac{l^{jk}_{b} r^{b}_{jk} t^{a}_{i}}{2} + l^{jk}_{b} r^{b}_{ij} t^{a}_{k} - \\frac{l^{jk}_{b} r^{a}_{jk} t^{b}_{i}}{2}$"
      ],
      "text/plain": [
       "Eq(\\gamma_{ia}, AntiSymmetricTensor(l, (_j,), ())*AntiSymmetricTensor(r, (), (_j,))*AntiSymmetricTensor(t, (a,), (i,)) - AntiSymmetricTensor(l, (_j,), ())*AntiSymmetricTensor(r, (), (i,))*AntiSymmetricTensor(t, (a,), (_j,)) - AntiSymmetricTensor(l, (_j,), ())*AntiSymmetricTensor(r, (a,), (i, _j)) - AntiSymmetricTensor(l, (_j, _k), (_b,))*AntiSymmetricTensor(r, (), (_j,))*AntiSymmetricTensor(t, (_b,), (i,))*AntiSymmetricTensor(t, (a,), (_k,)) + AntiSymmetricTensor(l, (_j, _k), (_b,))*AntiSymmetricTensor(r, (), (_j,))*AntiSymmetricTensor(t, (a, _b), (i, _k)) - AntiSymmetricTensor(l, (_j, _k), (_b,))*AntiSymmetricTensor(r, (), (i,))*AntiSymmetricTensor(t, (a, _b), (_j, _k))/2 + AntiSymmetricTensor(l, (_j, _k), (_b,))*AntiSymmetricTensor(r, (_b,), (_j, _k))*AntiSymmetricTensor(t, (a,), (i,))/2 + AntiSymmetricTensor(l, (_j, _k), (_b,))*AntiSymmetricTensor(r, (_b,), (i, _j))*AntiSymmetricTensor(t, (a,), (_k,)) - AntiSymmetricTensor(l, (_j, _k), (_b,))*AntiSymmetricTensor(r, (a,), (_j, _k))*AntiSymmetricTensor(t, (_b,), (i,))/2)"
      ]
     },
     "metadata": {},
     "output_type": "display_data"
    },
    {
     "data": {
      "text/latex": [
       "$\\displaystyle \\gamma_{ai} = - l^{ij}_{a} r^{}_{j}$"
      ],
      "text/plain": [
       "Eq(\\gamma_{ai}, -AntiSymmetricTensor(l, (i, _j), (a,))*AntiSymmetricTensor(r, (), (_j,)))"
      ]
     },
     "metadata": {},
     "output_type": "display_data"
    },
    {
     "data": {
      "text/latex": [
       "$\\displaystyle \\gamma_{ab} = l^{ij}_{a} r^{}_{i} t^{b}_{j} + \\frac{l^{ij}_{a} r^{b}_{ij}}{2}$"
      ],
      "text/plain": [
       "Eq(\\gamma_{ab}, AntiSymmetricTensor(l, (_i, _j), (a,))*AntiSymmetricTensor(r, (), (_i,))*AntiSymmetricTensor(t, (b,), (_j,)) + AntiSymmetricTensor(l, (_i, _j), (a,))*AntiSymmetricTensor(r, (b,), (_i, _j))/2)"
      ]
     },
     "metadata": {},
     "output_type": "display_data"
    }
   ],
   "source": [
    "import EOM, DM, TDM \n",
    "flavor1 = \"IP\"\n",
    "R0_f1 = EOM.R0(flavor1)\n",
    "R1_f1 = EOM.R1(flavor1)\n",
    "R2_f1 = EOM.R2(flavor1)\n",
    "Rf1  = R0_f1 + R1_f1 + R2_f1\n",
    "                                                                                \n",
    "L0_f1 = EOM.L0(flavor1)\n",
    "L1_f1 = EOM.L1(flavor1)\n",
    "L2_f1 = EOM.L2(flavor1)\n",
    "Lf1  = L0_f1 + L1_f1 + L2_f1\n",
    "DM.OPDM(Lf1,Rf1,flavor1)"
   ]
  },
  {
   "cell_type": "code",
   "execution_count": 14,
   "metadata": {
    "slideshow": {
     "slide_type": "subslide"
    }
   },
   "outputs": [
    {
     "data": {
      "text/markdown": [
       " Computing Dyson OPTDM between IP $\\rightarrow$ CCSD (skipping summation for dummy variables)"
      ],
      "text/plain": [
       "<IPython.core.display.Markdown object>"
      ]
     },
     "metadata": {},
     "output_type": "display_data"
    },
    {
     "data": {
      "text/latex": [
       "$\\displaystyle \\gamma_i^{R} = - l^{j}_{b} r^{}_{j} t^{b}_{i} + l^{j}_{b} r^{b}_{ij} - \\frac{l^{jk}_{bc} r^{}_{j} t^{bc}_{ik}}{2} + \\frac{l^{jk}_{bc} r^{b}_{jk} t^{c}_{i}}{2} + r^{}_{i}$"
      ],
      "text/plain": [
       "Eq(\\gamma_i^{R}, -AntiSymmetricTensor(l, (_j,), (_b,))*AntiSymmetricTensor(r, (), (_j,))*AntiSymmetricTensor(t, (_b,), (i,)) + AntiSymmetricTensor(l, (_j,), (_b,))*AntiSymmetricTensor(r, (_b,), (i, _j)) - AntiSymmetricTensor(l, (_j, _k), (_b, _c))*AntiSymmetricTensor(r, (), (_j,))*AntiSymmetricTensor(t, (_b, _c), (i, _k))/2 + AntiSymmetricTensor(l, (_j, _k), (_b, _c))*AntiSymmetricTensor(r, (_b,), (_j, _k))*AntiSymmetricTensor(t, (_c,), (i,))/2 + AntiSymmetricTensor(r, (), (i,)))"
      ]
     },
     "metadata": {},
     "output_type": "display_data"
    },
    {
     "data": {
      "text/latex": [
       "$\\displaystyle \\gamma_a^{R} = l^{j}_{a} r^{}_{j} + \\frac{l^{jk}_{ab} r^{b}_{jk}}{2}$"
      ],
      "text/plain": [
       "Eq(\\gamma_a^{R}, AntiSymmetricTensor(l, (_j,), (a,))*AntiSymmetricTensor(r, (), (_j,)) + AntiSymmetricTensor(l, (_j, _k), (a, _b))*AntiSymmetricTensor(r, (_b,), (_j, _k))/2)"
      ]
     },
     "metadata": {},
     "output_type": "display_data"
    },
    {
     "data": {
      "text/latex": [
       "$\\displaystyle \\gamma_i^{L} = l^{i}_{}$"
      ],
      "text/plain": [
       "Eq(\\gamma_i^{L}, AntiSymmetricTensor(l, (i,), ()))"
      ]
     },
     "metadata": {},
     "output_type": "display_data"
    },
    {
     "data": {
      "text/latex": [
       "$\\displaystyle \\gamma_a^{L} = l^{i}_{} t^{a}_{i} + \\frac{l^{ij}_{c} t^{ac}_{ij}}{2}$"
      ],
      "text/plain": [
       "Eq(\\gamma_a^{L}, AntiSymmetricTensor(l, (_i,), ())*AntiSymmetricTensor(t, (a,), (_i,)) + AntiSymmetricTensor(l, (_i, _j), (_c,))*AntiSymmetricTensor(t, (a, _c), (_i, _j))/2)"
      ]
     },
     "metadata": {},
     "output_type": "display_data"
    }
   ],
   "source": [
    "flavor2 = \"CCSD\"                                                                \n",
    "R0_f2 = EOM.R0(flavor2)                                                    \n",
    "R1_f2 = EOM.R1(flavor2)                                                    \n",
    "R2_f2 = EOM.R2(flavor2)                                                    \n",
    "Rf2  = R0_f2 + R1_f2 + R1_f2                                                   \n",
    "                                                                                \n",
    "L0_f2 = EOM.L0(flavor2)                                                    \n",
    "L1_f2 = EOM.L1(flavor2)                                                    \n",
    "L2_f2 = EOM.L2(flavor2)                                                    \n",
    "Lf2  = L0_f2 + L1_f2 + L2_f2                                                \n",
    "\n",
    "TDM.OPTDM(Lf1,Rf1,Lf2,Rf2,flavor1,flavor2)"
   ]
  },
  {
   "cell_type": "code",
   "execution_count": null,
   "metadata": {},
   "outputs": [],
   "source": []
  }
 ],
 "metadata": {
  "kernelspec": {
   "display_name": "Python 3",
   "language": "python",
   "name": "python3"
  },
  "language_info": {
   "codemirror_mode": {
    "name": "ipython",
    "version": 3
   },
   "file_extension": ".py",
   "mimetype": "text/x-python",
   "name": "python",
   "nbconvert_exporter": "python",
   "pygments_lexer": "ipython3",
   "version": "3.7.4"
  }
 },
 "nbformat": 4,
 "nbformat_minor": 2
}
